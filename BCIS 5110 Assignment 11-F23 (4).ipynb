{
 "cells": [
  {
   "cell_type": "markdown",
   "id": "edb5e6f2",
   "metadata": {},
   "source": [
    "## BCIS 5110 Analysis of JD Data"
   ]
  },
  {
   "cell_type": "code",
   "execution_count": null,
   "id": "6fc2bb24",
   "metadata": {},
   "outputs": [],
   "source": [
    "# This code appears in every demonstration Notebook.\n",
    "# By default, when you run each cell, only the last output of the codes will show.\n",
    "# This code makes all outputs of a cell show.\n",
    "from IPython.core.interactiveshell import InteractiveShell\n",
    "InteractiveShell.ast_node_interactivity = \"all\""
   ]
  },
  {
   "cell_type": "markdown",
   "id": "409e4901",
   "metadata": {},
   "source": [
    "### We will analyze JD Data in the rest of our assignments.\n",
    "The objective: to build models to accurately predict delivery times for customer orders.<br>\n",
    "The data: We need the following tables from the JD.com data<br>\n",
    "        1. Order<br>\n",
    "        2. User<br>\n",
    "        3. Delivery<br>\n",
    "        4. Inventory<br>\n",
    "        5. Network<br>        "
   ]
  },
  {
   "cell_type": "markdown",
   "id": "959c44b9",
   "metadata": {},
   "source": [
    "#### Assignment 8 include Q1 - Q10."
   ]
  },
  {
   "cell_type": "markdown",
   "id": "52749b83",
   "metadata": {},
   "source": [
    "1. Import necessary packages."
   ]
  },
  {
   "cell_type": "code",
   "execution_count": 1,
   "id": "e832a01e",
   "metadata": {},
   "outputs": [],
   "source": [
    "import pandas as pd"
   ]
  },
  {
   "cell_type": "markdown",
   "id": "2169b408",
   "metadata": {},
   "source": [
    "2. Read in the five csv files."
   ]
  },
  {
   "cell_type": "code",
   "execution_count": 2,
   "id": "4c19a50a",
   "metadata": {},
   "outputs": [],
   "source": [
    "order_df = pd.read_csv(r\"C:\\Users\\kalee\\Documents\\assgnmnt8\\JD Data\\JD_order_data.csv\")\n",
    "user_df = pd.read_csv(r\"C:\\Users\\kalee\\Documents\\assgnmnt8\\JD Data\\JD_user_data.csv\")\n",
    "delivery_df = pd.read_csv(r\"C:\\Users\\kalee\\Documents\\assgnmnt8\\JD Data\\JD_delivery_data.csv\")\n",
    "inventory_df = pd.read_csv(r\"C:\\Users\\kalee\\Documents\\assgnmnt8\\JD Data\\JD_inventory_data.csv\")\n",
    "network_df = pd.read_csv(r\"C:\\Users\\kalee\\Documents\\assgnmnt8\\JD Data\\JD_network_data.csv\")"
   ]
  },
  {
   "cell_type": "markdown",
   "id": "68e999a7",
   "metadata": {},
   "source": [
    "3. Display a sample of each data frame. How many observations? How many columns? What are the column names? (Use code to display such information.)"
   ]
  },
  {
   "cell_type": "code",
   "execution_count": 3,
   "id": "66478200",
   "metadata": {},
   "outputs": [
    {
     "data": {
      "text/html": [
       "<div>\n",
       "<style scoped>\n",
       "    .dataframe tbody tr th:only-of-type {\n",
       "        vertical-align: middle;\n",
       "    }\n",
       "\n",
       "    .dataframe tbody tr th {\n",
       "        vertical-align: top;\n",
       "    }\n",
       "\n",
       "    .dataframe thead th {\n",
       "        text-align: right;\n",
       "    }\n",
       "</style>\n",
       "<table border=\"1\" class=\"dataframe\">\n",
       "  <thead>\n",
       "    <tr style=\"text-align: right;\">\n",
       "      <th></th>\n",
       "      <th>order_ID</th>\n",
       "      <th>user_ID</th>\n",
       "      <th>sku_ID</th>\n",
       "      <th>order_date</th>\n",
       "      <th>order_time</th>\n",
       "      <th>quantity</th>\n",
       "      <th>type</th>\n",
       "      <th>promise</th>\n",
       "      <th>original_unit_price</th>\n",
       "      <th>final_unit_price</th>\n",
       "      <th>direct_discount_per_unit</th>\n",
       "      <th>quantity_discount_per_unit</th>\n",
       "      <th>bundle_discount_per_unit</th>\n",
       "      <th>coupon_discount_per_unit</th>\n",
       "      <th>gift_item</th>\n",
       "      <th>dc_ori</th>\n",
       "      <th>dc_des</th>\n",
       "    </tr>\n",
       "  </thead>\n",
       "  <tbody>\n",
       "    <tr>\n",
       "      <th>0</th>\n",
       "      <td>d0cf5cc6db</td>\n",
       "      <td>0abe9ef2ce</td>\n",
       "      <td>581d5b54c1</td>\n",
       "      <td>2018-03-01</td>\n",
       "      <td>2018-03-01 17:14:25.0</td>\n",
       "      <td>1</td>\n",
       "      <td>2</td>\n",
       "      <td>-</td>\n",
       "      <td>89.0</td>\n",
       "      <td>79.0</td>\n",
       "      <td>0.0</td>\n",
       "      <td>10.0</td>\n",
       "      <td>0.0</td>\n",
       "      <td>0.0</td>\n",
       "      <td>0</td>\n",
       "      <td>4</td>\n",
       "      <td>28</td>\n",
       "    </tr>\n",
       "    <tr>\n",
       "      <th>1</th>\n",
       "      <td>7444318d01</td>\n",
       "      <td>33a9e56257</td>\n",
       "      <td>067b673f2b</td>\n",
       "      <td>2018-03-01</td>\n",
       "      <td>2018-03-01 11:10:40.0</td>\n",
       "      <td>1</td>\n",
       "      <td>1</td>\n",
       "      <td>2</td>\n",
       "      <td>99.9</td>\n",
       "      <td>53.9</td>\n",
       "      <td>5.0</td>\n",
       "      <td>41.0</td>\n",
       "      <td>0.0</td>\n",
       "      <td>0.0</td>\n",
       "      <td>0</td>\n",
       "      <td>28</td>\n",
       "      <td>28</td>\n",
       "    </tr>\n",
       "    <tr>\n",
       "      <th>2</th>\n",
       "      <td>f973b01694</td>\n",
       "      <td>4ea3cf408f</td>\n",
       "      <td>623d0a582a</td>\n",
       "      <td>2018-03-01</td>\n",
       "      <td>2018-03-01 09:13:26.0</td>\n",
       "      <td>1</td>\n",
       "      <td>1</td>\n",
       "      <td>2</td>\n",
       "      <td>78.0</td>\n",
       "      <td>58.5</td>\n",
       "      <td>19.5</td>\n",
       "      <td>0.0</td>\n",
       "      <td>0.0</td>\n",
       "      <td>0.0</td>\n",
       "      <td>0</td>\n",
       "      <td>28</td>\n",
       "      <td>28</td>\n",
       "    </tr>\n",
       "    <tr>\n",
       "      <th>3</th>\n",
       "      <td>8c1cec8d4b</td>\n",
       "      <td>b87cb736cb</td>\n",
       "      <td>fc5289b139</td>\n",
       "      <td>2018-03-01</td>\n",
       "      <td>2018-03-01 21:29:50.0</td>\n",
       "      <td>1</td>\n",
       "      <td>1</td>\n",
       "      <td>2</td>\n",
       "      <td>61.0</td>\n",
       "      <td>35.0</td>\n",
       "      <td>0.0</td>\n",
       "      <td>26.0</td>\n",
       "      <td>0.0</td>\n",
       "      <td>0.0</td>\n",
       "      <td>0</td>\n",
       "      <td>4</td>\n",
       "      <td>28</td>\n",
       "    </tr>\n",
       "    <tr>\n",
       "      <th>4</th>\n",
       "      <td>d43a33c38a</td>\n",
       "      <td>4829223b6f</td>\n",
       "      <td>623d0a582a</td>\n",
       "      <td>2018-03-01</td>\n",
       "      <td>2018-03-01 19:13:37.0</td>\n",
       "      <td>1</td>\n",
       "      <td>1</td>\n",
       "      <td>1</td>\n",
       "      <td>78.0</td>\n",
       "      <td>53.0</td>\n",
       "      <td>19.0</td>\n",
       "      <td>0.0</td>\n",
       "      <td>0.0</td>\n",
       "      <td>6.0</td>\n",
       "      <td>0</td>\n",
       "      <td>3</td>\n",
       "      <td>16</td>\n",
       "    </tr>\n",
       "  </tbody>\n",
       "</table>\n",
       "</div>"
      ],
      "text/plain": [
       "     order_ID     user_ID      sku_ID  order_date             order_time  \\\n",
       "0  d0cf5cc6db  0abe9ef2ce  581d5b54c1  2018-03-01  2018-03-01 17:14:25.0   \n",
       "1  7444318d01  33a9e56257  067b673f2b  2018-03-01  2018-03-01 11:10:40.0   \n",
       "2  f973b01694  4ea3cf408f  623d0a582a  2018-03-01  2018-03-01 09:13:26.0   \n",
       "3  8c1cec8d4b  b87cb736cb  fc5289b139  2018-03-01  2018-03-01 21:29:50.0   \n",
       "4  d43a33c38a  4829223b6f  623d0a582a  2018-03-01  2018-03-01 19:13:37.0   \n",
       "\n",
       "   quantity  type promise  original_unit_price  final_unit_price  \\\n",
       "0         1     2       -                 89.0              79.0   \n",
       "1         1     1       2                 99.9              53.9   \n",
       "2         1     1       2                 78.0              58.5   \n",
       "3         1     1       2                 61.0              35.0   \n",
       "4         1     1       1                 78.0              53.0   \n",
       "\n",
       "   direct_discount_per_unit  quantity_discount_per_unit  \\\n",
       "0                       0.0                        10.0   \n",
       "1                       5.0                        41.0   \n",
       "2                      19.5                         0.0   \n",
       "3                       0.0                        26.0   \n",
       "4                      19.0                         0.0   \n",
       "\n",
       "   bundle_discount_per_unit  coupon_discount_per_unit  gift_item  dc_ori  \\\n",
       "0                       0.0                       0.0          0       4   \n",
       "1                       0.0                       0.0          0      28   \n",
       "2                       0.0                       0.0          0      28   \n",
       "3                       0.0                       0.0          0       4   \n",
       "4                       0.0                       6.0          0       3   \n",
       "\n",
       "   dc_des  \n",
       "0      28  \n",
       "1      28  \n",
       "2      28  \n",
       "3      28  \n",
       "4      16  "
      ]
     },
     "metadata": {},
     "output_type": "display_data"
    },
    {
     "name": "stdout",
     "output_type": "stream",
     "text": [
      "Observations: 549989\n",
      "Columns: 17\n",
      "Column names: ['order_ID', 'user_ID', 'sku_ID', 'order_date', 'order_time', 'quantity', 'type', 'promise', 'original_unit_price', 'final_unit_price', 'direct_discount_per_unit', 'quantity_discount_per_unit', 'bundle_discount_per_unit', 'coupon_discount_per_unit', 'gift_item', 'dc_ori', 'dc_des']\n",
      "\n"
     ]
    },
    {
     "data": {
      "text/html": [
       "<div>\n",
       "<style scoped>\n",
       "    .dataframe tbody tr th:only-of-type {\n",
       "        vertical-align: middle;\n",
       "    }\n",
       "\n",
       "    .dataframe tbody tr th {\n",
       "        vertical-align: top;\n",
       "    }\n",
       "\n",
       "    .dataframe thead th {\n",
       "        text-align: right;\n",
       "    }\n",
       "</style>\n",
       "<table border=\"1\" class=\"dataframe\">\n",
       "  <thead>\n",
       "    <tr style=\"text-align: right;\">\n",
       "      <th></th>\n",
       "      <th>user_ID</th>\n",
       "      <th>user_level</th>\n",
       "      <th>first_order_month</th>\n",
       "      <th>plus</th>\n",
       "      <th>gender</th>\n",
       "      <th>age</th>\n",
       "      <th>marital_status</th>\n",
       "      <th>education</th>\n",
       "      <th>city_level</th>\n",
       "      <th>purchase_power</th>\n",
       "    </tr>\n",
       "  </thead>\n",
       "  <tbody>\n",
       "    <tr>\n",
       "      <th>0</th>\n",
       "      <td>000089d6a6</td>\n",
       "      <td>1</td>\n",
       "      <td>2017-08</td>\n",
       "      <td>0</td>\n",
       "      <td>F</td>\n",
       "      <td>26-35</td>\n",
       "      <td>S</td>\n",
       "      <td>3</td>\n",
       "      <td>4</td>\n",
       "      <td>3</td>\n",
       "    </tr>\n",
       "    <tr>\n",
       "      <th>1</th>\n",
       "      <td>0000babd1f</td>\n",
       "      <td>1</td>\n",
       "      <td>2018-03</td>\n",
       "      <td>0</td>\n",
       "      <td>U</td>\n",
       "      <td>U</td>\n",
       "      <td>U</td>\n",
       "      <td>-1</td>\n",
       "      <td>-1</td>\n",
       "      <td>-1</td>\n",
       "    </tr>\n",
       "    <tr>\n",
       "      <th>2</th>\n",
       "      <td>0000bc018b</td>\n",
       "      <td>3</td>\n",
       "      <td>2016-06</td>\n",
       "      <td>0</td>\n",
       "      <td>F</td>\n",
       "      <td>&gt;=56</td>\n",
       "      <td>M</td>\n",
       "      <td>3</td>\n",
       "      <td>2</td>\n",
       "      <td>3</td>\n",
       "    </tr>\n",
       "    <tr>\n",
       "      <th>3</th>\n",
       "      <td>0000d0e5ab</td>\n",
       "      <td>3</td>\n",
       "      <td>2014-06</td>\n",
       "      <td>0</td>\n",
       "      <td>M</td>\n",
       "      <td>26-35</td>\n",
       "      <td>M</td>\n",
       "      <td>3</td>\n",
       "      <td>2</td>\n",
       "      <td>2</td>\n",
       "    </tr>\n",
       "    <tr>\n",
       "      <th>4</th>\n",
       "      <td>0000dce472</td>\n",
       "      <td>3</td>\n",
       "      <td>2012-08</td>\n",
       "      <td>1</td>\n",
       "      <td>U</td>\n",
       "      <td>U</td>\n",
       "      <td>U</td>\n",
       "      <td>-1</td>\n",
       "      <td>-1</td>\n",
       "      <td>-1</td>\n",
       "    </tr>\n",
       "  </tbody>\n",
       "</table>\n",
       "</div>"
      ],
      "text/plain": [
       "      user_ID  user_level first_order_month  plus gender    age  \\\n",
       "0  000089d6a6           1           2017-08     0      F  26-35   \n",
       "1  0000babd1f           1           2018-03     0      U      U   \n",
       "2  0000bc018b           3           2016-06     0      F   >=56   \n",
       "3  0000d0e5ab           3           2014-06     0      M  26-35   \n",
       "4  0000dce472           3           2012-08     1      U      U   \n",
       "\n",
       "  marital_status  education  city_level  purchase_power  \n",
       "0              S          3           4               3  \n",
       "1              U         -1          -1              -1  \n",
       "2              M          3           2               3  \n",
       "3              M          3           2               2  \n",
       "4              U         -1          -1              -1  "
      ]
     },
     "metadata": {},
     "output_type": "display_data"
    },
    {
     "name": "stdout",
     "output_type": "stream",
     "text": [
      "Observations: 457298\n",
      "Columns: 10\n",
      "Column names: ['user_ID', 'user_level', 'first_order_month', 'plus', 'gender', 'age', 'marital_status', 'education', 'city_level', 'purchase_power']\n",
      "\n"
     ]
    },
    {
     "data": {
      "text/html": [
       "<div>\n",
       "<style scoped>\n",
       "    .dataframe tbody tr th:only-of-type {\n",
       "        vertical-align: middle;\n",
       "    }\n",
       "\n",
       "    .dataframe tbody tr th {\n",
       "        vertical-align: top;\n",
       "    }\n",
       "\n",
       "    .dataframe thead th {\n",
       "        text-align: right;\n",
       "    }\n",
       "</style>\n",
       "<table border=\"1\" class=\"dataframe\">\n",
       "  <thead>\n",
       "    <tr style=\"text-align: right;\">\n",
       "      <th></th>\n",
       "      <th>package_ID</th>\n",
       "      <th>order_ID</th>\n",
       "      <th>type</th>\n",
       "      <th>ship_out_time</th>\n",
       "      <th>arr_station_time</th>\n",
       "      <th>arr_time</th>\n",
       "    </tr>\n",
       "  </thead>\n",
       "  <tbody>\n",
       "    <tr>\n",
       "      <th>0</th>\n",
       "      <td>dc3d6d2258</td>\n",
       "      <td>dc3d6d2258</td>\n",
       "      <td>1</td>\n",
       "      <td>2018-03-01 08:00:00</td>\n",
       "      <td>2018-03-01 15:00:00</td>\n",
       "      <td>2018-03-01 18:00:00</td>\n",
       "    </tr>\n",
       "    <tr>\n",
       "      <th>1</th>\n",
       "      <td>19802a570c</td>\n",
       "      <td>19802a570c</td>\n",
       "      <td>1</td>\n",
       "      <td>2018-03-01 10:00:00</td>\n",
       "      <td>2018-03-01 15:00:00</td>\n",
       "      <td>2018-03-01 17:00:00</td>\n",
       "    </tr>\n",
       "    <tr>\n",
       "      <th>2</th>\n",
       "      <td>e22627af66</td>\n",
       "      <td>e22627af66</td>\n",
       "      <td>1</td>\n",
       "      <td>2018-03-01 11:00:00</td>\n",
       "      <td>2018-03-01 15:00:00</td>\n",
       "      <td>2018-03-01 17:00:00</td>\n",
       "    </tr>\n",
       "    <tr>\n",
       "      <th>3</th>\n",
       "      <td>50d11a586d</td>\n",
       "      <td>50d11a586d</td>\n",
       "      <td>1</td>\n",
       "      <td>2018-03-01 10:00:00</td>\n",
       "      <td>2018-03-01 16:00:00</td>\n",
       "      <td>2018-03-01 19:00:00</td>\n",
       "    </tr>\n",
       "    <tr>\n",
       "      <th>4</th>\n",
       "      <td>a3bfe38bf4</td>\n",
       "      <td>a3bfe38bf4</td>\n",
       "      <td>1</td>\n",
       "      <td>2018-03-01 11:00:00</td>\n",
       "      <td>2018-03-01 16:00:00</td>\n",
       "      <td>2018-03-01 17:00:00</td>\n",
       "    </tr>\n",
       "  </tbody>\n",
       "</table>\n",
       "</div>"
      ],
      "text/plain": [
       "   package_ID    order_ID  type        ship_out_time     arr_station_time  \\\n",
       "0  dc3d6d2258  dc3d6d2258     1  2018-03-01 08:00:00  2018-03-01 15:00:00   \n",
       "1  19802a570c  19802a570c     1  2018-03-01 10:00:00  2018-03-01 15:00:00   \n",
       "2  e22627af66  e22627af66     1  2018-03-01 11:00:00  2018-03-01 15:00:00   \n",
       "3  50d11a586d  50d11a586d     1  2018-03-01 10:00:00  2018-03-01 16:00:00   \n",
       "4  a3bfe38bf4  a3bfe38bf4     1  2018-03-01 11:00:00  2018-03-01 16:00:00   \n",
       "\n",
       "              arr_time  \n",
       "0  2018-03-01 18:00:00  \n",
       "1  2018-03-01 17:00:00  \n",
       "2  2018-03-01 17:00:00  \n",
       "3  2018-03-01 19:00:00  \n",
       "4  2018-03-01 17:00:00  "
      ]
     },
     "metadata": {},
     "output_type": "display_data"
    },
    {
     "name": "stdout",
     "output_type": "stream",
     "text": [
      "Observations: 293229\n",
      "Columns: 6\n",
      "Column names: ['package_ID', 'order_ID', 'type', 'ship_out_time', 'arr_station_time', 'arr_time']\n",
      "\n"
     ]
    },
    {
     "data": {
      "text/html": [
       "<div>\n",
       "<style scoped>\n",
       "    .dataframe tbody tr th:only-of-type {\n",
       "        vertical-align: middle;\n",
       "    }\n",
       "\n",
       "    .dataframe tbody tr th {\n",
       "        vertical-align: top;\n",
       "    }\n",
       "\n",
       "    .dataframe thead th {\n",
       "        text-align: right;\n",
       "    }\n",
       "</style>\n",
       "<table border=\"1\" class=\"dataframe\">\n",
       "  <thead>\n",
       "    <tr style=\"text-align: right;\">\n",
       "      <th></th>\n",
       "      <th>dc_ID</th>\n",
       "      <th>sku_ID</th>\n",
       "      <th>date</th>\n",
       "    </tr>\n",
       "  </thead>\n",
       "  <tbody>\n",
       "    <tr>\n",
       "      <th>0</th>\n",
       "      <td>9</td>\n",
       "      <td>50f6f91962</td>\n",
       "      <td>2018-03-01</td>\n",
       "    </tr>\n",
       "    <tr>\n",
       "      <th>1</th>\n",
       "      <td>9</td>\n",
       "      <td>7f0ddbcdde</td>\n",
       "      <td>2018-03-01</td>\n",
       "    </tr>\n",
       "    <tr>\n",
       "      <th>2</th>\n",
       "      <td>9</td>\n",
       "      <td>8ad5789d74</td>\n",
       "      <td>2018-03-01</td>\n",
       "    </tr>\n",
       "    <tr>\n",
       "      <th>3</th>\n",
       "      <td>9</td>\n",
       "      <td>468d34eda4</td>\n",
       "      <td>2018-03-01</td>\n",
       "    </tr>\n",
       "    <tr>\n",
       "      <th>4</th>\n",
       "      <td>9</td>\n",
       "      <td>460afaddb6</td>\n",
       "      <td>2018-03-01</td>\n",
       "    </tr>\n",
       "  </tbody>\n",
       "</table>\n",
       "</div>"
      ],
      "text/plain": [
       "   dc_ID      sku_ID        date\n",
       "0      9  50f6f91962  2018-03-01\n",
       "1      9  7f0ddbcdde  2018-03-01\n",
       "2      9  8ad5789d74  2018-03-01\n",
       "3      9  468d34eda4  2018-03-01\n",
       "4      9  460afaddb6  2018-03-01"
      ]
     },
     "metadata": {},
     "output_type": "display_data"
    },
    {
     "name": "stdout",
     "output_type": "stream",
     "text": [
      "Observations: 136079\n",
      "Columns: 3\n",
      "Column names: ['dc_ID', 'sku_ID', 'date']\n",
      "\n"
     ]
    },
    {
     "data": {
      "text/html": [
       "<div>\n",
       "<style scoped>\n",
       "    .dataframe tbody tr th:only-of-type {\n",
       "        vertical-align: middle;\n",
       "    }\n",
       "\n",
       "    .dataframe tbody tr th {\n",
       "        vertical-align: top;\n",
       "    }\n",
       "\n",
       "    .dataframe thead th {\n",
       "        text-align: right;\n",
       "    }\n",
       "</style>\n",
       "<table border=\"1\" class=\"dataframe\">\n",
       "  <thead>\n",
       "    <tr style=\"text-align: right;\">\n",
       "      <th></th>\n",
       "      <th>region_ID</th>\n",
       "      <th>dc_ID</th>\n",
       "    </tr>\n",
       "  </thead>\n",
       "  <tbody>\n",
       "    <tr>\n",
       "      <th>0</th>\n",
       "      <td>2</td>\n",
       "      <td>57</td>\n",
       "    </tr>\n",
       "    <tr>\n",
       "      <th>1</th>\n",
       "      <td>2</td>\n",
       "      <td>43</td>\n",
       "    </tr>\n",
       "    <tr>\n",
       "      <th>2</th>\n",
       "      <td>2</td>\n",
       "      <td>42</td>\n",
       "    </tr>\n",
       "    <tr>\n",
       "      <th>3</th>\n",
       "      <td>2</td>\n",
       "      <td>66</td>\n",
       "    </tr>\n",
       "    <tr>\n",
       "      <th>4</th>\n",
       "      <td>2</td>\n",
       "      <td>20</td>\n",
       "    </tr>\n",
       "  </tbody>\n",
       "</table>\n",
       "</div>"
      ],
      "text/plain": [
       "   region_ID  dc_ID\n",
       "0          2     57\n",
       "1          2     43\n",
       "2          2     42\n",
       "3          2     66\n",
       "4          2     20"
      ]
     },
     "metadata": {},
     "output_type": "display_data"
    },
    {
     "name": "stdout",
     "output_type": "stream",
     "text": [
      "Observations: 56\n",
      "Columns: 2\n",
      "Column names: ['region_ID', 'dc_ID']\n",
      "\n"
     ]
    }
   ],
   "source": [
    "dataframes = [order_df, user_df, delivery_df, inventory_df, network_df]\n",
    "for df in dataframes:\n",
    "    display(df.head())  \n",
    "    print(f\"Observations: {df.shape[0]}\")\n",
    "    print(f\"Columns: {df.shape[1]}\")\n",
    "    print(f\"Column names: {df.columns.tolist()}\\n\")\n"
   ]
  },
  {
   "cell_type": "markdown",
   "id": "740303fd",
   "metadata": {},
   "source": [
    "4. Check for missing values of columns of each dataframe. You can use sum() (instead of any()) to find out the number of missing values. Which variables have missing values?"
   ]
  },
  {
   "cell_type": "code",
   "execution_count": 4,
   "id": "7c36b60a",
   "metadata": {
    "scrolled": true
   },
   "outputs": [
    {
     "name": "stdout",
     "output_type": "stream",
     "text": [
      "order_ID                      0\n",
      "user_ID                       0\n",
      "sku_ID                        0\n",
      "order_date                    0\n",
      "order_time                    0\n",
      "quantity                      0\n",
      "type                          0\n",
      "promise                       0\n",
      "original_unit_price           0\n",
      "final_unit_price              0\n",
      "direct_discount_per_unit      0\n",
      "quantity_discount_per_unit    0\n",
      "bundle_discount_per_unit      0\n",
      "coupon_discount_per_unit      0\n",
      "gift_item                     0\n",
      "dc_ori                        0\n",
      "dc_des                        0\n",
      "dtype: int64\n",
      "user_ID              0\n",
      "user_level           0\n",
      "first_order_month    0\n",
      "plus                 0\n",
      "gender               0\n",
      "age                  0\n",
      "marital_status       0\n",
      "education            0\n",
      "city_level           0\n",
      "purchase_power       0\n",
      "dtype: int64\n",
      "package_ID          0\n",
      "order_ID            0\n",
      "type                0\n",
      "ship_out_time       0\n",
      "arr_station_time    0\n",
      "arr_time            0\n",
      "dtype: int64\n",
      "dc_ID     0\n",
      "sku_ID    0\n",
      "date      0\n",
      "dtype: int64\n",
      "region_ID    0\n",
      "dc_ID        0\n",
      "dtype: int64\n"
     ]
    }
   ],
   "source": [
    "\n",
    "for df in dataframes:\n",
    "    print(df.isnull().sum())"
   ]
  },
  {
   "cell_type": "markdown",
   "id": "d8417be7",
   "metadata": {},
   "source": [
    "5. Check the promise variable in orders table. What unusual values do you notice? What do you think it means?"
   ]
  },
  {
   "cell_type": "code",
   "execution_count": 5,
   "id": "db6c21e7",
   "metadata": {},
   "outputs": [
    {
     "name": "stdout",
     "output_type": "stream",
     "text": [
      "['-' '2' '1' '3' '4' '5' '6' '7' '8']\n"
     ]
    }
   ],
   "source": [
    "\n",
    "print(order_df['promise'].unique())"
   ]
  },
  {
   "cell_type": "markdown",
   "id": "7f44a1aa",
   "metadata": {},
   "source": [
    "6. How many observations for each value in 'promise' variable? What information can you draw from this?"
   ]
  },
  {
   "cell_type": "code",
   "execution_count": 6,
   "id": "ed4221a7",
   "metadata": {
    "scrolled": true
   },
   "outputs": [
    {
     "name": "stdout",
     "output_type": "stream",
     "text": [
      "-    208583\n",
      "1    157509\n",
      "2    109990\n",
      "3     33176\n",
      "4     23882\n",
      "5     10054\n",
      "6      3039\n",
      "8      2374\n",
      "7      1382\n",
      "Name: promise, dtype: int64\n"
     ]
    }
   ],
   "source": [
    "\n",
    "print(order_df['promise'].value_counts())\n"
   ]
  },
  {
   "cell_type": "markdown",
   "id": "056bb6b2",
   "metadata": {},
   "source": [
    "7. Select only two variables: 'type' and 'promise' from order table. Sort it by variable 'type' in descending order. What do you observe from the results? (check the first 10 and last 10 observations.) Think about the meaning of the type variable."
   ]
  },
  {
   "cell_type": "code",
   "execution_count": 7,
   "id": "e7c4bf62",
   "metadata": {},
   "outputs": [
    {
     "name": "stdout",
     "output_type": "stream",
     "text": [
      "        type promise\n",
      "0          2       -\n",
      "308329     2       -\n",
      "308358     2       -\n",
      "308357     2       -\n",
      "308356     2       -\n",
      "308355     2       -\n",
      "308354     2       -\n",
      "308353     2       -\n",
      "308352     2       -\n",
      "308351     2       -\n",
      "        type promise\n",
      "334636     1       1\n",
      "334633     1       1\n",
      "334626     1       1\n",
      "334632     1       1\n",
      "334631     1       1\n",
      "116820     1       2\n",
      "116821     1       2\n",
      "116822     1       1\n",
      "334627     1       1\n",
      "274994     1       2\n"
     ]
    }
   ],
   "source": [
    "selected_order_df = order_df[['type', 'promise']].sort_values('type', ascending=False)\n",
    "print(selected_order_df.head(10))\n",
    "print(selected_order_df.tail(10))"
   ]
  },
  {
   "cell_type": "markdown",
   "id": "0df0b8a6",
   "metadata": {},
   "source": [
    "8. Merge order and delivery tables, using inner merge. What does inner merge mean? How many observations are there in the merged dataset? Compared with the number of observations in the original order and delivery table, what can you say about the match between orders and deliveries?"
   ]
  },
  {
   "cell_type": "code",
   "execution_count": 8,
   "id": "f3678054",
   "metadata": {},
   "outputs": [
    {
     "name": "stdout",
     "output_type": "stream",
     "text": [
      "Number of observations in the order dataset: 549989\n",
      "Number of observations in the delivery dataset: 293229\n",
      "Number of observations in the merged dataset: 326862\n"
     ]
    }
   ],
   "source": [
    "import pandas as pd\n",
    "\n",
    "# Load the order and delivery data\n",
    "file_order = r\"C:\\Users\\kalee\\Documents\\assgnmnt8\\JD Data\\JD_order_data.csv\"  \n",
    "file_delivery = r\"C:\\Users\\kalee\\Documents\\assgnmnt8\\JD Data\\JD_delivery_data.csv\"  \n",
    "\n",
    "order_data = pd.read_csv(file_order)\n",
    "delivery_data = pd.read_csv(file_delivery)\n",
    "\n",
    "# Performing an inner merge using 'order_ID' as the key\n",
    "merged_data = pd.merge(order_data, delivery_data, on='order_ID', how='inner')\n",
    "\n",
    "# Number of observations in the merged dataset\n",
    "merged_observations_count = merged_data.shape[0]\n",
    "\n",
    "# Print the number of observations in each dataset\n",
    "print(\"Number of observations in the order dataset:\", order_data.shape[0])\n",
    "print(\"Number of observations in the delivery dataset:\", delivery_data.shape[0])\n",
    "print(\"Number of observations in the merged dataset:\", merged_observations_count)\n",
    "\n"
   ]
  },
  {
   "cell_type": "markdown",
   "id": "71c34250",
   "metadata": {},
   "source": [
    "9. Merge order and delivery tables, using right merge. What does right merge mean? How many obervations are there in the merged dataset? Do all delivery records have matched order information?"
   ]
  },
  {
   "cell_type": "code",
   "execution_count": 9,
   "id": "8f086ba4",
   "metadata": {},
   "outputs": [
    {
     "name": "stdout",
     "output_type": "stream",
     "text": [
      "Number of observations in the right merged dataset: 326862\n",
      "Number of unmatched delivery records: 0\n"
     ]
    }
   ],
   "source": [
    "import pandas as pd\n",
    "\n",
    "# Load the order and delivery data\n",
    "file_order = r\"C:\\Users\\kalee\\Documents\\assgnmnt8\\JD Data\\JD_order_data.csv\"  \n",
    "file_delivery = r\"C:\\Users\\kalee\\Documents\\assgnmnt8\\JD Data\\JD_delivery_data.csv\" \n",
    "\n",
    "order_data = pd.read_csv(file_order)\n",
    "delivery_data = pd.read_csv(file_delivery)\n",
    "\n",
    "# Performing a right merge using 'order_ID' as the key\n",
    "right_merged_data = pd.merge(order_data, delivery_data, on='order_ID', how='right')\n",
    "\n",
    "# Number of observations in the right merged dataset\n",
    "right_merged_observations_count = right_merged_data.shape[0]\n",
    "\n",
    "# Checking if all delivery records have matched order information\n",
    "unmatched_deliveries = right_merged_data['order_ID'].isnull().sum()\n",
    "\n",
    "# Print the number of observations in the merged dataset and unmatched deliveries\n",
    "print(\"Number of observations in the right merged dataset:\", right_merged_observations_count)\n",
    "print(\"Number of unmatched delivery records:\", unmatched_deliveries)\n"
   ]
  },
  {
   "cell_type": "markdown",
   "id": "6b9bbe86",
   "metadata": {},
   "source": [
    "10. Merge order and delivery tables, using left merge. What does left merge mean? How many obervations are there in the merged dataset? Compare the number of observations of the merged table with the original order table, what can you say about the match between orders and deliveries?"
   ]
  },
  {
   "cell_type": "code",
   "execution_count": 10,
   "id": "0c26a7f4",
   "metadata": {},
   "outputs": [
    {
     "name": "stdout",
     "output_type": "stream",
     "text": [
      "Number of observations in the left merged dataset: 550017\n"
     ]
    }
   ],
   "source": [
    "import pandas as pd\n",
    "\n",
    "file_order = r\"C:\\Users\\kalee\\Documents\\assgnmnt8\\JD Data\\JD_order_data.csv\"  \n",
    "file_delivery = r\"C:\\Users\\kalee\\Documents\\assgnmnt8\\JD Data\\JD_delivery_data.csv\" \n",
    "\n",
    "\n",
    "order_data = pd.read_csv(file_order)\n",
    "delivery_data = pd.read_csv(file_delivery)\n",
    "\n",
    "# Performing a left merge using 'order_ID' as the key\n",
    "left_merged_data = pd.merge(order_data, delivery_data, on='order_ID', how='left')\n",
    "\n",
    "# Number of observations in the left merged dataset\n",
    "left_merged_observations_count = left_merged_data.shape[0]\n",
    "\n",
    "# Print the number of observations in the merged dataset\n",
    "print(\"Number of observations in the left merged dataset:\", left_merged_observations_count)\n"
   ]
  },
  {
   "cell_type": "markdown",
   "id": "b96e04d2",
   "metadata": {},
   "source": [
    "### Assignment 9 starts here. Q11 - Q20."
   ]
  },
  {
   "cell_type": "markdown",
   "id": "5f47c320",
   "metadata": {},
   "source": [
    "In this part, we prepare the data for analysis."
   ]
  },
  {
   "cell_type": "markdown",
   "id": "a3c58838",
   "metadata": {},
   "source": [
    "11. First, we need to clean the merged order and delivery table.<br>\n",
    "Identify the table from the inner merge in Q8. Take a look at it. You may find there are two variables: type_x and type_y, which were not in the original two tables.<br>\n",
    "The reason is that there is a type variable in both orders and delivery tables. The merge keeps both and assigned x and y suffix to them.<br>\n",
    "Check the meaning of the two variables in our data description.<br>\n",
    "To make the two variables consistent, we can replace the values of one variable to match the other."
   ]
  },
  {
   "cell_type": "code",
   "execution_count": 11,
   "id": "45855a47",
   "metadata": {},
   "outputs": [
    {
     "name": "stdout",
     "output_type": "stream",
     "text": [
      "     order_ID     user_ID      sku_ID  order_date             order_time  \\\n",
      "0  7444318d01  33a9e56257  067b673f2b  2018-03-01  2018-03-01 11:10:40.0   \n",
      "1  f973b01694  4ea3cf408f  623d0a582a  2018-03-01  2018-03-01 09:13:26.0   \n",
      "2  8c1cec8d4b  b87cb736cb  fc5289b139  2018-03-01  2018-03-01 21:29:50.0   \n",
      "3  d43a33c38a  4829223b6f  623d0a582a  2018-03-01  2018-03-01 19:13:37.0   \n",
      "4  e0f5386d87  0b07cae293  589c2b865b  2018-03-01  2018-03-01 21:09:15.0   \n",
      "\n",
      "   quantity  order_type promise  original_unit_price  final_unit_price  ...  \\\n",
      "0         1           1       2                 99.9              53.9  ...   \n",
      "1         1           1       2                 78.0              58.5  ...   \n",
      "2         1           1       2                 61.0              35.0  ...   \n",
      "3         1           1       1                 78.0              53.0  ...   \n",
      "4         1           1       1                 79.9              38.9  ...   \n",
      "\n",
      "   bundle_discount_per_unit  coupon_discount_per_unit  gift_item  dc_ori  \\\n",
      "0                       0.0                       0.0          0      28   \n",
      "1                       0.0                       0.0          0      28   \n",
      "2                       0.0                       0.0          0       4   \n",
      "3                       0.0                       6.0          0       3   \n",
      "4                       0.0                       0.0          0       3   \n",
      "\n",
      "   dc_des  package_ID  delivery_type        ship_out_time  \\\n",
      "0      28  7444318d01              1  2018-03-01 13:00:00   \n",
      "1      28  f973b01694              1  2018-03-01 14:00:00   \n",
      "2      28  8c1cec8d4b              1  2018-03-02 09:00:00   \n",
      "3      16  d43a33c38a              1  2018-03-01 20:00:00   \n",
      "4      16  e0f5386d87              1  2018-03-01 22:00:00   \n",
      "\n",
      "      arr_station_time             arr_time  \n",
      "0  2018-03-02 08:00:00  2018-03-02 14:00:00  \n",
      "1  2018-03-02 09:00:00  2018-03-02 13:00:00  \n",
      "2  2018-03-03 08:00:00  2018-03-04 11:00:00  \n",
      "3  2018-03-02 07:00:00  2018-03-02 11:00:00  \n",
      "4  2018-03-02 09:00:00  2018-03-02 12:00:00  \n",
      "\n",
      "[5 rows x 22 columns]\n"
     ]
    }
   ],
   "source": [
    "\n",
    "import pandas as pd\n",
    "\n",
    "# Load the datasets (replace with your file paths)\n",
    "order_data = pd.read_csv(r\"C:\\Users\\kalee\\Documents\\assgnmnt8\\JD Data\\JD_order_data.csv\")\n",
    "delivery_data = pd.read_csv( r\"C:\\Users\\kalee\\Documents\\assgnmnt8\\JD Data\\JD_delivery_data.csv\")\n",
    "\n",
    "# Performing an inner merge\n",
    "merged_data = pd.merge(order_data, delivery_data, on='order_ID', how='inner')\n",
    "\n",
    "# Renaming 'type_x' and 'type_y' for clarity\n",
    "merged_data.rename(columns={'type_x': 'order_type', 'type_y': 'delivery_type'}, inplace=True)\n",
    "\n",
    "# Inspecting the first few rows of the merged dataset\n",
    "print(merged_data.head())\n",
    "\n"
   ]
  },
  {
   "cell_type": "markdown",
   "id": "71e74326",
   "metadata": {},
   "source": [
    "Then compare the values of the two variables are the same."
   ]
  },
  {
   "cell_type": "code",
   "execution_count": 12,
   "id": "4a5a220e",
   "metadata": {},
   "outputs": [
    {
     "name": "stdout",
     "output_type": "stream",
     "text": [
      "True     272618\n",
      "False     54244\n",
      "Name: type_match, dtype: int64\n"
     ]
    }
   ],
   "source": [
    "import pandas as pd\n",
    "\n",
    "# Load the datasets \n",
    "order_data = pd.read_csv(r\"C:\\Users\\kalee\\Documents\\assgnmnt8\\JD Data\\JD_order_data.csv\")\n",
    "delivery_data = pd.read_csv(r\"C:\\Users\\kalee\\Documents\\assgnmnt8\\JD Data\\JD_delivery_data.csv\")\n",
    "\n",
    "# Performing an inner merge\n",
    "merged_data = pd.merge(order_data, delivery_data, on='order_ID', how='inner')\n",
    "\n",
    "# Comparing 'type_x' and 'type_y' for each row in the merged dataset\n",
    "merged_data['type_match'] = merged_data['type_x'] == merged_data['type_y']\n",
    "\n",
    "# Counting the number of matches and non-matches\n",
    "type_match_count = merged_data['type_match'].value_counts()\n",
    "\n",
    "# Output the count of matches and non-matches\n",
    "print(type_match_count)\n"
   ]
  },
  {
   "cell_type": "markdown",
   "id": "caa13f03",
   "metadata": {},
   "source": [
    "If they are, please drop one of them."
   ]
  },
  {
   "cell_type": "code",
   "execution_count": 13,
   "id": "ddb5d3d9",
   "metadata": {},
   "outputs": [
    {
     "name": "stdout",
     "output_type": "stream",
     "text": [
      "Columns 'type_x' and 'type_y' are not identical in all rows. No columns were dropped.\n"
     ]
    }
   ],
   "source": [
    "import pandas as pd\n",
    "\n",
    "# Load the datasets \n",
    "order_data = pd.read_csv(r\"C:\\Users\\kalee\\Documents\\assgnmnt8\\JD Data\\JD_order_data.csv\")\n",
    "delivery_data = pd.read_csv(r\"C:\\Users\\kalee\\Documents\\assgnmnt8\\JD Data\\JD_delivery_data.csv\")\n",
    "\n",
    "# Performing an inner merge\n",
    "merged_data = pd.merge(order_data, delivery_data, on='order_ID', how='inner')\n",
    "\n",
    "# Renaming 'type_x' and 'type_y' for clarity\n",
    "merged_data.rename(columns={'type_x': 'type_x', 'type_y': 'type_y'}, inplace=True)\n",
    "\n",
    "# Comparing 'type_x' and 'type_y' for each row in the merged dataset\n",
    "merged_data['type_match'] = merged_data['type_x'] == merged_data['type_y']\n",
    "\n",
    "# Check if 'type_x' and 'type_y' have the same values for all rows\n",
    "if merged_data['type_match'].all():\n",
    "    # Drop 'type_y' as they are the same\n",
    "    merged_data.drop('type_y', axis=1, inplace=True)\n",
    "    # Optionally, rename 'type_x' to 'type'\n",
    "    merged_data.rename(columns={'type_x': 'type'}, inplace=True)\n",
    "    print(\"Column 'type_y' has been dropped and 'type_x' has been renamed to 'type'.\")\n",
    "else:\n",
    "    print(\"Columns 'type_x' and 'type_y' are not identical in all rows. No columns were dropped.\")\n"
   ]
  },
  {
   "cell_type": "markdown",
   "id": "64cefd13",
   "metadata": {},
   "source": [
    "12. We need to remove the orders that <br>\n",
    "1) has a single item; <br>\n",
    "2) the item is a gift item;<br>\n",
    "\n",
    "The reason is that those orders might have come from other product categories and only use products from current category as a gift. We do not have information about those orders."
   ]
  },
  {
   "cell_type": "markdown",
   "id": "f9338863",
   "metadata": {},
   "source": [
    "We first find orders with order_ID only appears once in the data, which indicates this order contains a single item.<br>\n",
    "Hint: you may use .duplicated() method to mark that. Think about which value of the argument 'keep' you want to choose. Consider saving the outcome as a variable."
   ]
  },
  {
   "cell_type": "code",
   "execution_count": 14,
   "id": "4dc1e8c7",
   "metadata": {},
   "outputs": [
    {
     "name": "stdout",
     "output_type": "stream",
     "text": [
      "          order_ID     user_ID      sku_ID  order_date             order_time  \\\n",
      "0       7444318d01  33a9e56257  067b673f2b  2018-03-01  2018-03-01 11:10:40.0   \n",
      "1       f973b01694  4ea3cf408f  623d0a582a  2018-03-01  2018-03-01 09:13:26.0   \n",
      "2       8c1cec8d4b  b87cb736cb  fc5289b139  2018-03-01  2018-03-01 21:29:50.0   \n",
      "3       d43a33c38a  4829223b6f  623d0a582a  2018-03-01  2018-03-01 19:13:37.0   \n",
      "4       e0f5386d87  0b07cae293  589c2b865b  2018-03-01  2018-03-01 21:09:15.0   \n",
      "...            ...         ...         ...         ...                    ...   \n",
      "326856  a4a2f1df1a  5240164ed9  7f53769d3f  2018-03-31  2018-03-31 13:47:52.0   \n",
      "326857  5fd298d448  165ee3e319  f7280c119d  2018-03-31  2018-03-31 12:42:35.0   \n",
      "326859  c9d77a7ed0  18f92434cd  7f53769d3f  2018-03-31  2018-03-31 08:55:57.0   \n",
      "326860  b9ad79338f  b5caf8a580  8dc4a01dec  2018-03-31  2018-03-31 13:31:01.0   \n",
      "326861  02d31f05c9  f260895cbe  10d369ef96  2018-03-31  2018-03-31 18:21:16.0   \n",
      "\n",
      "        quantity  type_x promise  original_unit_price  final_unit_price  ...  \\\n",
      "0              1       1       2                 99.9              53.9  ...   \n",
      "1              1       1       2                 78.0              58.5  ...   \n",
      "2              1       1       2                 61.0              35.0  ...   \n",
      "3              1       1       1                 78.0              53.0  ...   \n",
      "4              1       1       1                 79.9              38.9  ...   \n",
      "...          ...     ...     ...                  ...               ...  ...   \n",
      "326856         1       1       3                118.0              55.0  ...   \n",
      "326857         1       2       3                269.0             189.0  ...   \n",
      "326859         1       1       3                118.0              55.0  ...   \n",
      "326860         1       1       2                 78.0              78.0  ...   \n",
      "326861         1       2       4                 68.0              49.0  ...   \n",
      "\n",
      "        coupon_discount_per_unit  gift_item  dc_ori  dc_des  package_ID  \\\n",
      "0                            0.0          0      28      28  7444318d01   \n",
      "1                            0.0          0      28      28  f973b01694   \n",
      "2                            0.0          0       4      28  8c1cec8d4b   \n",
      "3                            6.0          0       3      16  d43a33c38a   \n",
      "4                            0.0          0       3      16  e0f5386d87   \n",
      "...                          ...        ...     ...     ...         ...   \n",
      "326856                       0.0          0      59       2  a4a2f1df1a   \n",
      "326857                       0.0          0       2       2  1b81523e8d   \n",
      "326859                       0.0          0      59       2  c9d77a7ed0   \n",
      "326860                       0.0          0       2       2  b9ad79338f   \n",
      "326861                       0.0          0       4      28  1722a36a69   \n",
      "\n",
      "        type_y        ship_out_time     arr_station_time             arr_time  \\\n",
      "0            1  2018-03-01 13:00:00  2018-03-02 08:00:00  2018-03-02 14:00:00   \n",
      "1            1  2018-03-01 14:00:00  2018-03-02 09:00:00  2018-03-02 13:00:00   \n",
      "2            1  2018-03-02 09:00:00  2018-03-03 08:00:00  2018-03-04 11:00:00   \n",
      "3            1  2018-03-01 20:00:00  2018-03-02 07:00:00  2018-03-02 11:00:00   \n",
      "4            1  2018-03-01 22:00:00  2018-03-02 09:00:00  2018-03-02 12:00:00   \n",
      "...        ...                  ...                  ...                  ...   \n",
      "326856       1  2018-03-31 15:00:00  2018-04-02 07:00:00  2018-04-02 12:00:00   \n",
      "326857       0  2018-03-31 13:00:00  2018-04-02 07:00:00  2018-04-02 13:00:00   \n",
      "326859       1  2018-03-31 11:00:00  2018-04-02 07:00:00  2018-04-02 15:00:00   \n",
      "326860       1  2018-03-31 14:00:00  2018-04-01 07:00:00  2018-04-01 11:00:00   \n",
      "326861       0  2018-04-01 14:00:00  2018-04-05 08:00:00  2018-04-05 13:00:00   \n",
      "\n",
      "       type_match  \n",
      "0            True  \n",
      "1            True  \n",
      "2            True  \n",
      "3            True  \n",
      "4            True  \n",
      "...           ...  \n",
      "326856       True  \n",
      "326857      False  \n",
      "326859       True  \n",
      "326860       True  \n",
      "326861      False  \n",
      "\n",
      "[252886 rows x 23 columns]\n"
     ]
    }
   ],
   "source": [
    "import pandas as pd\n",
    "\n",
    "# Assuming merged_data is your main DataFrame\n",
    "# Step 1: Identify Orders with a Single Item\n",
    "single_item_orders = ~merged_data['order_ID'].duplicated(keep=False)\n",
    "\n",
    "# Step 2: Filter Out Gift Items\n",
    "non_gift_items = merged_data['gift_item'] == 0\n",
    "\n",
    "# Step 3: Apply Both Conditions\n",
    "filtered_data = merged_data[single_item_orders & non_gift_items]\n",
    "\n",
    "# Displaying the filtered data\n",
    "print(filtered_data)\n",
    "\n"
   ]
  },
  {
   "cell_type": "markdown",
   "id": "e4ca8fbb",
   "metadata": {},
   "source": [
    "Then we filter the data to remove those orders of a single gift item. Save the changes."
   ]
  },
  {
   "cell_type": "code",
   "execution_count": 15,
   "id": "e59c8837",
   "metadata": {},
   "outputs": [
    {
     "name": "stdout",
     "output_type": "stream",
     "text": [
      "          order_ID     user_ID      sku_ID  order_date             order_time  \\\n",
      "0       7444318d01  33a9e56257  067b673f2b  2018-03-01  2018-03-01 11:10:40.0   \n",
      "1       f973b01694  4ea3cf408f  623d0a582a  2018-03-01  2018-03-01 09:13:26.0   \n",
      "2       8c1cec8d4b  b87cb736cb  fc5289b139  2018-03-01  2018-03-01 21:29:50.0   \n",
      "3       d43a33c38a  4829223b6f  623d0a582a  2018-03-01  2018-03-01 19:13:37.0   \n",
      "4       e0f5386d87  0b07cae293  589c2b865b  2018-03-01  2018-03-01 21:09:15.0   \n",
      "...            ...         ...         ...         ...                    ...   \n",
      "326856  a4a2f1df1a  5240164ed9  7f53769d3f  2018-03-31  2018-03-31 13:47:52.0   \n",
      "326857  5fd298d448  165ee3e319  f7280c119d  2018-03-31  2018-03-31 12:42:35.0   \n",
      "326859  c9d77a7ed0  18f92434cd  7f53769d3f  2018-03-31  2018-03-31 08:55:57.0   \n",
      "326860  b9ad79338f  b5caf8a580  8dc4a01dec  2018-03-31  2018-03-31 13:31:01.0   \n",
      "326861  02d31f05c9  f260895cbe  10d369ef96  2018-03-31  2018-03-31 18:21:16.0   \n",
      "\n",
      "        quantity  type_x promise  original_unit_price  final_unit_price  ...  \\\n",
      "0              1       1       2                 99.9              53.9  ...   \n",
      "1              1       1       2                 78.0              58.5  ...   \n",
      "2              1       1       2                 61.0              35.0  ...   \n",
      "3              1       1       1                 78.0              53.0  ...   \n",
      "4              1       1       1                 79.9              38.9  ...   \n",
      "...          ...     ...     ...                  ...               ...  ...   \n",
      "326856         1       1       3                118.0              55.0  ...   \n",
      "326857         1       2       3                269.0             189.0  ...   \n",
      "326859         1       1       3                118.0              55.0  ...   \n",
      "326860         1       1       2                 78.0              78.0  ...   \n",
      "326861         1       2       4                 68.0              49.0  ...   \n",
      "\n",
      "        coupon_discount_per_unit  gift_item  dc_ori  dc_des  package_ID  \\\n",
      "0                            0.0          0      28      28  7444318d01   \n",
      "1                            0.0          0      28      28  f973b01694   \n",
      "2                            0.0          0       4      28  8c1cec8d4b   \n",
      "3                            6.0          0       3      16  d43a33c38a   \n",
      "4                            0.0          0       3      16  e0f5386d87   \n",
      "...                          ...        ...     ...     ...         ...   \n",
      "326856                       0.0          0      59       2  a4a2f1df1a   \n",
      "326857                       0.0          0       2       2  1b81523e8d   \n",
      "326859                       0.0          0      59       2  c9d77a7ed0   \n",
      "326860                       0.0          0       2       2  b9ad79338f   \n",
      "326861                       0.0          0       4      28  1722a36a69   \n",
      "\n",
      "        type_y        ship_out_time     arr_station_time             arr_time  \\\n",
      "0            1  2018-03-01 13:00:00  2018-03-02 08:00:00  2018-03-02 14:00:00   \n",
      "1            1  2018-03-01 14:00:00  2018-03-02 09:00:00  2018-03-02 13:00:00   \n",
      "2            1  2018-03-02 09:00:00  2018-03-03 08:00:00  2018-03-04 11:00:00   \n",
      "3            1  2018-03-01 20:00:00  2018-03-02 07:00:00  2018-03-02 11:00:00   \n",
      "4            1  2018-03-01 22:00:00  2018-03-02 09:00:00  2018-03-02 12:00:00   \n",
      "...        ...                  ...                  ...                  ...   \n",
      "326856       1  2018-03-31 15:00:00  2018-04-02 07:00:00  2018-04-02 12:00:00   \n",
      "326857       0  2018-03-31 13:00:00  2018-04-02 07:00:00  2018-04-02 13:00:00   \n",
      "326859       1  2018-03-31 11:00:00  2018-04-02 07:00:00  2018-04-02 15:00:00   \n",
      "326860       1  2018-03-31 14:00:00  2018-04-01 07:00:00  2018-04-01 11:00:00   \n",
      "326861       0  2018-04-01 14:00:00  2018-04-05 08:00:00  2018-04-05 13:00:00   \n",
      "\n",
      "       type_match  \n",
      "0            True  \n",
      "1            True  \n",
      "2            True  \n",
      "3            True  \n",
      "4            True  \n",
      "...           ...  \n",
      "326856       True  \n",
      "326857      False  \n",
      "326859       True  \n",
      "326860       True  \n",
      "326861      False  \n",
      "\n",
      "[314539 rows x 23 columns]\n"
     ]
    }
   ],
   "source": [
    "\n",
    "import pandas as pd\n",
    "\n",
    "# Assuming merged_data is your main DataFrame\n",
    "# Step 1: Identify Orders with a Single Item\n",
    "single_item_orders = ~merged_data['order_ID'].duplicated(keep=False)\n",
    "\n",
    "# Step 2: Identify Gift Items\n",
    "gift_items = merged_data['gift_item'] == 1\n",
    "\n",
    "# Combine conditions to identify single gift item orders\n",
    "single_gift_item_orders = single_item_orders & gift_items\n",
    "\n",
    "# Exclude these orders from the dataset\n",
    "filtered_data = merged_data[~single_gift_item_orders]\n",
    "\n",
    "# Saving the changes\n",
    "merged_data = filtered_data\n",
    "\n",
    "# Displaying the filtered data\n",
    "print(merged_data)\n",
    "\n"
   ]
  },
  {
   "cell_type": "code",
   "execution_count": null,
   "id": "b7e6f7b3",
   "metadata": {},
   "outputs": [],
   "source": []
  },
  {
   "cell_type": "markdown",
   "id": "a6834bef",
   "metadata": {},
   "source": [
    "13. Next, we remove orders with multiple packages. Hint: You may groupby order_ID, find the number of unique package_ID ('nunique') and then use transform() to broadcast the value to all record. Save the results as a new variable. Use the variable value to filter."
   ]
  },
  {
   "cell_type": "code",
   "execution_count": 16,
   "id": "d04379c4",
   "metadata": {},
   "outputs": [
    {
     "name": "stdout",
     "output_type": "stream",
     "text": [
      "          order_ID     user_ID      sku_ID  order_date             order_time  \\\n",
      "0       7444318d01  33a9e56257  067b673f2b  2018-03-01  2018-03-01 11:10:40.0   \n",
      "1       f973b01694  4ea3cf408f  623d0a582a  2018-03-01  2018-03-01 09:13:26.0   \n",
      "2       8c1cec8d4b  b87cb736cb  fc5289b139  2018-03-01  2018-03-01 21:29:50.0   \n",
      "3       d43a33c38a  4829223b6f  623d0a582a  2018-03-01  2018-03-01 19:13:37.0   \n",
      "4       e0f5386d87  0b07cae293  589c2b865b  2018-03-01  2018-03-01 21:09:15.0   \n",
      "...            ...         ...         ...         ...                    ...   \n",
      "326856  a4a2f1df1a  5240164ed9  7f53769d3f  2018-03-31  2018-03-31 13:47:52.0   \n",
      "326857  5fd298d448  165ee3e319  f7280c119d  2018-03-31  2018-03-31 12:42:35.0   \n",
      "326859  c9d77a7ed0  18f92434cd  7f53769d3f  2018-03-31  2018-03-31 08:55:57.0   \n",
      "326860  b9ad79338f  b5caf8a580  8dc4a01dec  2018-03-31  2018-03-31 13:31:01.0   \n",
      "326861  02d31f05c9  f260895cbe  10d369ef96  2018-03-31  2018-03-31 18:21:16.0   \n",
      "\n",
      "        quantity  type_x promise  original_unit_price  final_unit_price  ...  \\\n",
      "0              1       1       2                 99.9              53.9  ...   \n",
      "1              1       1       2                 78.0              58.5  ...   \n",
      "2              1       1       2                 61.0              35.0  ...   \n",
      "3              1       1       1                 78.0              53.0  ...   \n",
      "4              1       1       1                 79.9              38.9  ...   \n",
      "...          ...     ...     ...                  ...               ...  ...   \n",
      "326856         1       1       3                118.0              55.0  ...   \n",
      "326857         1       2       3                269.0             189.0  ...   \n",
      "326859         1       1       3                118.0              55.0  ...   \n",
      "326860         1       1       2                 78.0              78.0  ...   \n",
      "326861         1       2       4                 68.0              49.0  ...   \n",
      "\n",
      "        coupon_discount_per_unit  gift_item  dc_ori  dc_des  package_ID  \\\n",
      "0                            0.0          0      28      28  7444318d01   \n",
      "1                            0.0          0      28      28  f973b01694   \n",
      "2                            0.0          0       4      28  8c1cec8d4b   \n",
      "3                            6.0          0       3      16  d43a33c38a   \n",
      "4                            0.0          0       3      16  e0f5386d87   \n",
      "...                          ...        ...     ...     ...         ...   \n",
      "326856                       0.0          0      59       2  a4a2f1df1a   \n",
      "326857                       0.0          0       2       2  1b81523e8d   \n",
      "326859                       0.0          0      59       2  c9d77a7ed0   \n",
      "326860                       0.0          0       2       2  b9ad79338f   \n",
      "326861                       0.0          0       4      28  1722a36a69   \n",
      "\n",
      "        type_y        ship_out_time     arr_station_time             arr_time  \\\n",
      "0            1  2018-03-01 13:00:00  2018-03-02 08:00:00  2018-03-02 14:00:00   \n",
      "1            1  2018-03-01 14:00:00  2018-03-02 09:00:00  2018-03-02 13:00:00   \n",
      "2            1  2018-03-02 09:00:00  2018-03-03 08:00:00  2018-03-04 11:00:00   \n",
      "3            1  2018-03-01 20:00:00  2018-03-02 07:00:00  2018-03-02 11:00:00   \n",
      "4            1  2018-03-01 22:00:00  2018-03-02 09:00:00  2018-03-02 12:00:00   \n",
      "...        ...                  ...                  ...                  ...   \n",
      "326856       1  2018-03-31 15:00:00  2018-04-02 07:00:00  2018-04-02 12:00:00   \n",
      "326857       0  2018-03-31 13:00:00  2018-04-02 07:00:00  2018-04-02 13:00:00   \n",
      "326859       1  2018-03-31 11:00:00  2018-04-02 07:00:00  2018-04-02 15:00:00   \n",
      "326860       1  2018-03-31 14:00:00  2018-04-01 07:00:00  2018-04-01 11:00:00   \n",
      "326861       0  2018-04-01 14:00:00  2018-04-05 08:00:00  2018-04-05 13:00:00   \n",
      "\n",
      "       type_match  \n",
      "0            True  \n",
      "1            True  \n",
      "2            True  \n",
      "3            True  \n",
      "4            True  \n",
      "...           ...  \n",
      "326856       True  \n",
      "326857      False  \n",
      "326859       True  \n",
      "326860       True  \n",
      "326861      False  \n",
      "\n",
      "[314486 rows x 23 columns]\n"
     ]
    }
   ],
   "source": [
    "import pandas as pd\n",
    "\n",
    "# Assuming merged_data is your main DataFrame\n",
    "# Step 1 & 2: Group by 'order_ID' and broadcast the count of unique 'package_ID'\n",
    "package_count = merged_data.groupby('order_ID')['package_ID'].nunique()\n",
    "merged_data['package_count'] = merged_data['order_ID'].transform(lambda x: package_count[x])\n",
    "\n",
    "# Step 3: Filter Orders with Only One Package\n",
    "single_package_orders = merged_data['package_count'] == 1\n",
    "filtered_data = merged_data[single_package_orders]\n",
    "\n",
    "# Step 4: Save the Results\n",
    "final_data = filtered_data.drop(columns=['package_count'])\n",
    "\n",
    "# Displaying the filtered data\n",
    "print(final_data)\n"
   ]
  },
  {
   "cell_type": "markdown",
   "id": "c334d96d",
   "metadata": {},
   "source": [
    "14. Now we process time-related variables: order_date, order_time, ship_out_time, arr_station_time, and arr_time. <br>\n",
    "First change all of them to Timestamp data type. <br>\n",
    "Get the day of the month from the order_date and save it to a new variable 'order_day'. <br>\n",
    "Get the hour of the order_time and save it to a new variable 'order_hour'.<br>\n",
    "Caculate the delivery time by minus arr_time with order_time. <br>"
   ]
  },
  {
   "cell_type": "code",
   "execution_count": 17,
   "id": "4b24e87e",
   "metadata": {},
   "outputs": [
    {
     "name": "stdout",
     "output_type": "stream",
     "text": [
      "   order_day  order_hour  delivery_time\n",
      "0          1          11      26.822222\n",
      "1          1           9      27.776111\n",
      "2          1          21      61.502778\n",
      "3          1          19      15.773056\n",
      "4          1          21      14.845833\n"
     ]
    }
   ],
   "source": [
    "import pandas as pd\n",
    "\n",
    "# Convert time-related columns to Timestamp\n",
    "merged_data['order_date'] = pd.to_datetime(merged_data['order_date'])\n",
    "merged_data['order_time'] = pd.to_datetime(merged_data['order_time'])\n",
    "merged_data['ship_out_time'] = pd.to_datetime(merged_data['ship_out_time'])\n",
    "merged_data['arr_station_time'] = pd.to_datetime(merged_data['arr_station_time'])\n",
    "merged_data['arr_time'] = pd.to_datetime(merged_data['arr_time'])\n",
    "\n",
    "# Extract day from 'order_date'\n",
    "merged_data['order_day'] = merged_data['order_date'].dt.day\n",
    "\n",
    "# Extract hour from 'order_time'\n",
    "merged_data['order_hour'] = merged_data['order_time'].dt.hour\n",
    "\n",
    "# Calculate delivery time\n",
    "merged_data['delivery_time'] = (merged_data['arr_time'] - merged_data['order_time']).dt.total_seconds() / 3600 \n",
    "# Displaying the modified DataFrame\n",
    "print(merged_data[['order_day', 'order_hour', 'delivery_time']].head())\n"
   ]
  },
  {
   "cell_type": "markdown",
   "id": "bfa148fb",
   "metadata": {},
   "source": [
    "15. We will transform the delivery time to hours. Hint: You can use total_seconds() method to turn it into seconds and find hours. Use apply() to apply a function for the transformation."
   ]
  },
  {
   "cell_type": "code",
   "execution_count": 18,
   "id": "9e7052a2",
   "metadata": {},
   "outputs": [
    {
     "name": "stdout",
     "output_type": "stream",
     "text": [
      "           order_time            arr_time  delivery_time_hours\n",
      "0 2018-03-01 11:10:40 2018-03-02 14:00:00            26.822222\n",
      "1 2018-03-01 09:13:26 2018-03-02 13:00:00            27.776111\n",
      "2 2018-03-01 21:29:50 2018-03-04 11:00:00            61.502778\n",
      "3 2018-03-01 19:13:37 2018-03-02 11:00:00            15.773056\n",
      "4 2018-03-01 21:09:15 2018-03-02 12:00:00            14.845833\n"
     ]
    }
   ],
   "source": [
    "import pandas as pd\n",
    "\n",
    "# Assuming merged_data is your DataFrame and it already has 'arr_time' and 'order_time' as Timestamps\n",
    "# Calculate delivery time and convert it to hours\n",
    "merged_data['delivery_time_hours'] = merged_data.apply(lambda row: (row['arr_time'] - row['order_time']).total_seconds() / 3600, axis=1)\n",
    "\n",
    "# Displaying the modified DataFrame\n",
    "print(merged_data[['order_time', 'arr_time', 'delivery_time_hours']].head())\n"
   ]
  },
  {
   "cell_type": "markdown",
   "id": "607f416f",
   "metadata": {},
   "source": [
    "16. Find the total number of packages between the origin distribution center and the destination center. What do you observe from those pairs of highest traffic? <br>\n",
    "Hint: You may group by the distribution centers and count the unique number of packages.<br>\n",
    "You can use reset_index() method to turn the groupby aggregation results into a regular dataframe for later operations."
   ]
  },
  {
   "cell_type": "code",
   "execution_count": 19,
   "id": "6beaa5ac",
   "metadata": {
    "scrolled": true
   },
   "outputs": [
    {
     "name": "stdout",
     "output_type": "stream",
     "text": [
      "     dc_ori  dc_des  package_count\n",
      "31        5       5          30144\n",
      "6         2       2          22593\n",
      "71        9       9          22164\n",
      "23        4       4          19975\n",
      "120      24      24          12233\n",
      "..      ...     ...            ...\n",
      "108      15      42              1\n",
      "365      56      62              1\n",
      "1         1      18              1\n",
      "269      51      19              1\n",
      "97       13      14              1\n",
      "\n",
      "[627 rows x 3 columns]\n"
     ]
    }
   ],
   "source": [
    "import pandas as pd\n",
    "\n",
    "# Assuming merged_data is your main DataFrame\n",
    "# Step 1 & 2: Group by distribution centers and count unique packages\n",
    "traffic_count = merged_data.groupby(['dc_ori', 'dc_des'])['package_ID'].nunique()\n",
    "\n",
    "# Step 3: Reset index to make it a regular DataFrame\n",
    "traffic_df = traffic_count.reset_index().rename(columns={'package_ID': 'package_count'})\n",
    "\n",
    "# Step 4: Sort by package_count to find highest traffic\n",
    "traffic_df_sorted = traffic_df.sort_values(by='package_count', ascending=False)\n",
    "\n",
    "# Display the sorted DataFrame\n",
    "print(traffic_df_sorted)\n"
   ]
  },
  {
   "cell_type": "markdown",
   "id": "11d6ed80",
   "metadata": {},
   "source": [
    "17. Now let's go back to the original orders table. Find the orders where gift_item equals to 1 (use filtering). What do you find about the orignal_unit_price and final_unit_price in the filtered dataset? Do we consider the 0 price as data errors?"
   ]
  },
  {
   "cell_type": "code",
   "execution_count": 20,
   "id": "9f2345c0",
   "metadata": {},
   "outputs": [
    {
     "name": "stdout",
     "output_type": "stream",
     "text": [
      "       original_unit_price  final_unit_price\n",
      "count         94606.000000      94606.000000\n",
      "mean              0.004334         -0.215242\n",
      "std               0.544303          1.109574\n",
      "min               0.000000        -32.000000\n",
      "25%               0.000000          0.000000\n",
      "50%               0.000000          0.000000\n",
      "75%               0.000000          0.000000\n",
      "max              69.000000          0.000000\n"
     ]
    }
   ],
   "source": [
    "import pandas as pd\n",
    "\n",
    "\n",
    "file_path = r\"C:\\Users\\kalee\\Documents\\assgnmnt8\\JD Data\\JD_order_data.csv\"\n",
    "\n",
    "# Load the data into a DataFrame\n",
    "order_df = pd.read_csv(file_path)\n",
    "\n",
    "# Now you can proceed with filtering the orders where gift_item equals 1\n",
    "gift_orders = order_df[order_df['gift_item'] == 1]\n",
    "\n",
    "# Analyze original_unit_price and final_unit_price\n",
    "price_summary = gift_orders[['original_unit_price', 'final_unit_price']].describe()\n",
    "\n",
    "# Display the summary statistics\n",
    "print(price_summary)\n",
    "\n"
   ]
  },
  {
   "cell_type": "markdown",
   "id": "b7f3a034",
   "metadata": {},
   "source": [
    "18. Still use the original order table. Filter the orders of a product (sku: 'a0e49f9966') on '2018-3-15'. Calculate the sales. <br>\n",
    "Hint: we can multiply the quantity and final price columns together. <br>\n",
    "The outcome will be a pandas series. <br>\n",
    "The sum of the series will be the total sales. "
   ]
  },
  {
   "cell_type": "code",
   "execution_count": 21,
   "id": "f54f17b5",
   "metadata": {},
   "outputs": [
    {
     "name": "stdout",
     "output_type": "stream",
     "text": [
      "Total sales for product 'a0e49f9966' on 2018-03-15: 0.0\n"
     ]
    }
   ],
   "source": [
    "import pandas as pd\n",
    "\n",
    "# Assuming order_df is your original orders DataFrame\n",
    "# Step 1: Filter orders for the specific product on the specific date\n",
    "filtered_orders = order_df[(order_df['sku_ID'] == 'a0e49f9966') & (order_df['order_date'] == '2018-03-15')]\n",
    "\n",
    "# Step 2: Calculate sales for each order\n",
    "sales_per_order = filtered_orders['quantity'] * filtered_orders['final_unit_price']\n",
    "\n",
    "# Step 3: Sum the sales to get the total\n",
    "total_sales = sales_per_order.sum()\n",
    "\n",
    "# Display the total sales\n",
    "print(\"Total sales for product 'a0e49f9966' on 2018-03-15:\", total_sales)\n"
   ]
  },
  {
   "cell_type": "markdown",
   "id": "8564c8a0",
   "metadata": {},
   "source": [
    "19. Now let's move to the user table. <br>\n",
    "Create a pivot table that counts the customers based on their user_level and education."
   ]
  },
  {
   "cell_type": "code",
   "execution_count": 22,
   "id": "934d9dd8",
   "metadata": {},
   "outputs": [
    {
     "name": "stdout",
     "output_type": "stream",
     "text": [
      "education      -1     1      2      3      4\n",
      "user_level                                  \n",
      "-1           2294     0      0      9      0\n",
      " 0            145     0      7      8      1\n",
      " 1          66391  3001  24182  35486    369\n",
      " 2          28310  3270  32953  75907   1419\n",
      " 3           8201  1260  13418  68944   4979\n",
      " 4           4023   629   3606  37548  39922\n",
      " 10          1005     0      2      6      3\n"
     ]
    }
   ],
   "source": [
    "import pandas as pd\n",
    "\n",
    "file_path = r\"C:\\Users\\kalee\\Documents\\assgnmnt8\\JD Data\\JD_user_data.csv\"\n",
    "\n",
    "# Load the user data into a DataFrame\n",
    "user_df = pd.read_csv(file_path)\n",
    "\n",
    "# Create the pivot table\n",
    "pivot_table = user_df.pivot_table(index='user_level', columns='education', aggfunc='size', fill_value=0)\n",
    "\n",
    "# Display the pivot table\n",
    "print(pivot_table)\n"
   ]
  },
  {
   "cell_type": "markdown",
   "id": "4f8df9fa",
   "metadata": {},
   "source": [
    "20. Answer one of your descriptive questions using groupby or pivot table."
   ]
  },
  {
   "cell_type": "code",
   "execution_count": 23,
   "id": "bce931a8",
   "metadata": {},
   "outputs": [
    {
     "name": "stdout",
     "output_type": "stream",
     "text": [
      "user_level\n",
      "-1    -0.985237\n",
      " 0    -0.608696\n",
      " 1     1.109867\n",
      " 2     1.699667\n",
      " 3     1.870984\n",
      " 4     1.893909\n",
      " 10   -0.960630\n",
      "Name: purchase_power, dtype: float64\n"
     ]
    }
   ],
   "source": [
    "import pandas as pd\n",
    "\n",
    "\n",
    "# Group by 'user_level' and calculate the average purchase power \n",
    "average_metric_per_user_level = user_df.groupby('user_level')['purchase_power'].mean()  \n",
    "\n",
    "# Display the results\n",
    "print(average_metric_per_user_level)\n",
    "\n",
    "\n"
   ]
  },
  {
   "cell_type": "markdown",
   "id": "5f87e3ec",
   "metadata": {},
   "source": [
    "### Assignment 10 starts here. Q21-Q30.\n",
    "We now further explore the data, especially with graphs. We do not require formatting details of graph. The basics are enough."
   ]
  },
  {
   "cell_type": "markdown",
   "id": "412b9f1d",
   "metadata": {},
   "source": [
    "21. Let's first look at the user table. Use info() to display basic information about the table. Check the Dtype column. What is the data type for variable user_level? This data type does not fit our description about this variable: <br>\n",
    "\"taking on a value of 0, 1, 2, 3, or 4, where a higher user_level is associated with a higher total purchase value in the past. For users who are enterprise users (e.g., small shops in rural areas or small businesses), the corresponding\n",
    "user_level takes on a value of 10. However, for first-time purchasers, their user_level takes on\n",
    "the value −1.\" <br>\n",
    "The numbers do not have a numeric meaning, but refer to categories of customers. So, we would like to change the data type to categorical. Please use .astype('string') to change the data type of user_level.<br>\n",
    "You may find similar situation for variables: education, city_level and purchase_power. Change their data type too."
   ]
  },
  {
   "cell_type": "code",
   "execution_count": 24,
   "id": "604e4700",
   "metadata": {},
   "outputs": [
    {
     "name": "stdout",
     "output_type": "stream",
     "text": [
      "<class 'pandas.core.frame.DataFrame'>\n",
      "RangeIndex: 457298 entries, 0 to 457297\n",
      "Data columns (total 10 columns):\n",
      " #   Column             Non-Null Count   Dtype \n",
      "---  ------             --------------   ----- \n",
      " 0   user_ID            457298 non-null  object\n",
      " 1   user_level         457298 non-null  int64 \n",
      " 2   first_order_month  457298 non-null  object\n",
      " 3   plus               457298 non-null  int64 \n",
      " 4   gender             457298 non-null  object\n",
      " 5   age                457298 non-null  object\n",
      " 6   marital_status     457298 non-null  object\n",
      " 7   education          457298 non-null  int64 \n",
      " 8   city_level         457298 non-null  int64 \n",
      " 9   purchase_power     457298 non-null  int64 \n",
      "dtypes: int64(5), object(5)\n",
      "memory usage: 34.9+ MB\n"
     ]
    }
   ],
   "source": [
    "import pandas as pd\n",
    "\n",
    "user_df = pd.read_csv(r\"C:\\Users\\kalee\\Documents\\assgnmnt8\\JD Data\\JD_user_data.csv\")\n",
    "user_df.info()\n"
   ]
  },
  {
   "cell_type": "code",
   "execution_count": 25,
   "id": "b037191c",
   "metadata": {},
   "outputs": [
    {
     "name": "stdout",
     "output_type": "stream",
     "text": [
      "user_ID              object\n",
      "user_level           string\n",
      "first_order_month    object\n",
      "plus                  int64\n",
      "gender               object\n",
      "age                  object\n",
      "marital_status       object\n",
      "education            string\n",
      "city_level           string\n",
      "purchase_power       string\n",
      "dtype: object\n"
     ]
    }
   ],
   "source": [
    "user_df['user_level'] = user_df['user_level'].astype('string')\n",
    "user_df['education'] = user_df['education'].astype('string')\n",
    "user_df['city_level'] = user_df['city_level'].astype('string')\n",
    "user_df['purchase_power'] = user_df['purchase_power'].astype('string')\n",
    "print(user_df.dtypes)"
   ]
  },
  {
   "cell_type": "markdown",
   "id": "981de815",
   "metadata": {},
   "source": [
    "22. 1) The meaning of '-1' for user_level is new customer. We will replace '-1' with 'New' and '10' with 'Bus'. Notice that -1 now changes to a string '-1'."
   ]
  },
  {
   "cell_type": "code",
   "execution_count": 26,
   "id": "1389331b",
   "metadata": {},
   "outputs": [
    {
     "name": "stdout",
     "output_type": "stream",
     "text": [
      "      user_ID  user_level first_order_month  plus gender    age  \\\n",
      "0  000089d6a6           1           2017-08     0      F  26-35   \n",
      "1  0000babd1f           1           2018-03     0      U      U   \n",
      "2  0000bc018b           3           2016-06     0      F   >=56   \n",
      "3  0000d0e5ab           3           2014-06     0      M  26-35   \n",
      "4  0000dce472           3           2012-08     1      U      U   \n",
      "\n",
      "  marital_status  education  city_level  purchase_power  \n",
      "0              S          3           4               3  \n",
      "1              U         -1          -1              -1  \n",
      "2              M          3           2               3  \n",
      "3              M          3           2               2  \n",
      "4              U         -1          -1              -1  \n"
     ]
    }
   ],
   "source": [
    "# Load the user data\n",
    "user_df =pd.read_csv(r\"C:\\Users\\kalee\\Documents\\assgnmnt8\\JD Data\\JD_user_data.csv\")\n",
    "\n",
    "# Replace '-1' with 'New' and '10' with 'Bus' in the 'user_level' column\n",
    "user_df['user_level'] = user_df['user_level'].replace({'-1': 'New', '10': 'Bus'})\n",
    "\n",
    "# Displaying the first few rows to verify the changes\n",
    "print(user_df.head())\n"
   ]
  },
  {
   "cell_type": "markdown",
   "id": "7d690477",
   "metadata": {},
   "source": [
    "2) The meaning of -1 in education, city_level and purchase_power is missing values. We will replace it with 'U', as missing value indicator of other variables like 'age', 'gender', etc."
   ]
  },
  {
   "cell_type": "code",
   "execution_count": 27,
   "id": "1160a43b",
   "metadata": {
    "scrolled": true
   },
   "outputs": [
    {
     "data": {
      "text/html": [
       "<div>\n",
       "<style scoped>\n",
       "    .dataframe tbody tr th:only-of-type {\n",
       "        vertical-align: middle;\n",
       "    }\n",
       "\n",
       "    .dataframe tbody tr th {\n",
       "        vertical-align: top;\n",
       "    }\n",
       "\n",
       "    .dataframe thead th {\n",
       "        text-align: right;\n",
       "    }\n",
       "</style>\n",
       "<table border=\"1\" class=\"dataframe\">\n",
       "  <thead>\n",
       "    <tr style=\"text-align: right;\">\n",
       "      <th></th>\n",
       "      <th>user_ID</th>\n",
       "      <th>user_level</th>\n",
       "      <th>first_order_month</th>\n",
       "      <th>plus</th>\n",
       "      <th>gender</th>\n",
       "      <th>age</th>\n",
       "      <th>marital_status</th>\n",
       "      <th>education</th>\n",
       "      <th>city_level</th>\n",
       "      <th>purchase_power</th>\n",
       "    </tr>\n",
       "  </thead>\n",
       "  <tbody>\n",
       "    <tr>\n",
       "      <th>0</th>\n",
       "      <td>000089d6a6</td>\n",
       "      <td>1</td>\n",
       "      <td>2017-08</td>\n",
       "      <td>0</td>\n",
       "      <td>F</td>\n",
       "      <td>26-35</td>\n",
       "      <td>S</td>\n",
       "      <td>3</td>\n",
       "      <td>4</td>\n",
       "      <td>3</td>\n",
       "    </tr>\n",
       "    <tr>\n",
       "      <th>1</th>\n",
       "      <td>0000babd1f</td>\n",
       "      <td>1</td>\n",
       "      <td>2018-03</td>\n",
       "      <td>0</td>\n",
       "      <td>U</td>\n",
       "      <td>U</td>\n",
       "      <td>U</td>\n",
       "      <td>-1</td>\n",
       "      <td>-1</td>\n",
       "      <td>-1</td>\n",
       "    </tr>\n",
       "    <tr>\n",
       "      <th>2</th>\n",
       "      <td>0000bc018b</td>\n",
       "      <td>3</td>\n",
       "      <td>2016-06</td>\n",
       "      <td>0</td>\n",
       "      <td>F</td>\n",
       "      <td>&gt;=56</td>\n",
       "      <td>M</td>\n",
       "      <td>3</td>\n",
       "      <td>2</td>\n",
       "      <td>3</td>\n",
       "    </tr>\n",
       "    <tr>\n",
       "      <th>3</th>\n",
       "      <td>0000d0e5ab</td>\n",
       "      <td>3</td>\n",
       "      <td>2014-06</td>\n",
       "      <td>0</td>\n",
       "      <td>M</td>\n",
       "      <td>26-35</td>\n",
       "      <td>M</td>\n",
       "      <td>3</td>\n",
       "      <td>2</td>\n",
       "      <td>2</td>\n",
       "    </tr>\n",
       "    <tr>\n",
       "      <th>4</th>\n",
       "      <td>0000dce472</td>\n",
       "      <td>3</td>\n",
       "      <td>2012-08</td>\n",
       "      <td>1</td>\n",
       "      <td>U</td>\n",
       "      <td>U</td>\n",
       "      <td>U</td>\n",
       "      <td>-1</td>\n",
       "      <td>-1</td>\n",
       "      <td>-1</td>\n",
       "    </tr>\n",
       "  </tbody>\n",
       "</table>\n",
       "</div>"
      ],
      "text/plain": [
       "      user_ID  user_level first_order_month  plus gender    age  \\\n",
       "0  000089d6a6           1           2017-08     0      F  26-35   \n",
       "1  0000babd1f           1           2018-03     0      U      U   \n",
       "2  0000bc018b           3           2016-06     0      F   >=56   \n",
       "3  0000d0e5ab           3           2014-06     0      M  26-35   \n",
       "4  0000dce472           3           2012-08     1      U      U   \n",
       "\n",
       "  marital_status  education  city_level  purchase_power  \n",
       "0              S          3           4               3  \n",
       "1              U         -1          -1              -1  \n",
       "2              M          3           2               3  \n",
       "3              M          3           2               2  \n",
       "4              U         -1          -1              -1  "
      ]
     },
     "execution_count": 27,
     "metadata": {},
     "output_type": "execute_result"
    }
   ],
   "source": [
    "# Load the user data\n",
    "user_df =pd.read_csv(r\"C:\\Users\\kalee\\Documents\\assgnmnt8\\JD Data\\JD_user_data.csv\")\n",
    "\n",
    "# Replacing '-1' with 'U' in specified columns\n",
    "user_df['education'] = user_df['education'].replace('-1', 'U')\n",
    "user_df['city_level'] = user_df['city_level'].replace('-1', 'U')\n",
    "user_df['purchase_power'] = user_df['purchase_power'].replace('-1', 'U')\n",
    "\n",
    "# Displaying the first few rows to verify the changes\n",
    "updated_user_df = user_df.head()\n",
    "updated_user_df\n",
    "\n"
   ]
  },
  {
   "cell_type": "markdown",
   "id": "c42dd2fb",
   "metadata": {},
   "source": [
    "23. Let's move to the user table. Almost all user features are categorical variables. Make bar graphs to examine the distribution of \"user_level', 'plus', 'gender', 'age', 'marital_status', 'education', 'city_level', and 'purchase_power'. You may consider using a loop. Based on the graphs, you may answer questions like these:\n",
    " 1. What is the education level of the majority?\n",
    " 2. Which age level has the most users?"
   ]
  },
  {
   "cell_type": "code",
   "execution_count": 28,
   "id": "affa58bf",
   "metadata": {},
   "outputs": [
    {
     "data": {
      "image/png": "[encoded data removed]",
      "text/plain": [
       "<Figure size 1500x2000 with 8 Axes>"
      ]
     },
     "metadata": {},
     "output_type": "display_data"
    }
   ],
   "source": [
    "import matplotlib.pyplot as plt\n",
    "\n",
    "# List of categorical columns to plot\n",
    "categorical_columns = ['user_level', 'plus', 'gender', 'age', 'marital_status', 'education', 'city_level', 'purchase_power']\n",
    "\n",
    "# Setting up the plotting area\n",
    "fig, axes = plt.subplots(nrows=4, ncols=2, figsize=(15, 20))\n",
    "axes = axes.flatten()  # Flattening the axes array for easy iteration\n",
    "\n",
    "# Looping through the columns and creating bar plots\n",
    "for i, col in enumerate(categorical_columns):\n",
    "    user_df[col].value_counts().plot(kind='bar', ax=axes[i], title=col, color='skyblue')\n",
    "    axes[i].set_xlabel(col)\n",
    "    axes[i].set_ylabel('Count')\n",
    "\n",
    "# Adjusting layout for better visibility\n",
    "plt.tight_layout()\n",
    "plt.show()\n",
    "\n"
   ]
  },
  {
   "cell_type": "markdown",
   "id": "da17ae2a",
   "metadata": {},
   "source": [
    "25. Next we move to the table that resulted from Q11-Q15. Sum the quantity by day (we created this variable in Q14.) and save the results.\n",
    "Create a line graph based on it. Hint: The outcome of the sum is a Pandas Series. Use the .index to get the day and .values to get the sum for the plot.<br>\n",
    "Or you may use reset_index() to turn the results to a dataframe.\n",
    "Which day has the most quantity sold? "
   ]
  },
  {
   "cell_type": "code",
   "execution_count": 29,
   "id": "31bf318c",
   "metadata": {
    "scrolled": true
   },
   "outputs": [
    {
     "data": {
      "image/png": "[encoded data removed]",
      "text/plain": [
       "<Figure size 1200x600 with 1 Axes>"
      ]
     },
     "metadata": {},
     "output_type": "display_data"
    },
    {
     "data": {
      "text/plain": [
       "('2018-03-01', 39822)"
      ]
     },
     "execution_count": 29,
     "metadata": {},
     "output_type": "execute_result"
    }
   ],
   "source": [
    "import pandas as pd\n",
    "\n",
    "# Load the datasets\n",
    "order_data_path = r\"C:\\Users\\kalee\\Documents\\assgnmnt8\\JD Data\\JD_order_data.csv\"\n",
    "delivery_data_path = r\"C:\\Users\\kalee\\Documents\\assgnmnt8\\JD Data\\JD_delivery_data.csv\"\n",
    "\n",
    "order_data = pd.read_csv(order_data_path)\n",
    "delivery_data = pd.read_csv(delivery_data_path)\n",
    "\n",
    "# Performing an inner merge\n",
    "merged_data = pd.merge(order_data, delivery_data, on='order_ID', how='inner')\n",
    "\n",
    "#Sum the quantity by day\n",
    "quantity_sum_by_day = merged_data.groupby('order_date')['quantity'].sum()\n",
    "\n",
    "\n",
    "\n",
    "# Creating a line graph\n",
    "plt.figure(figsize=(12, 6))\n",
    "plt.plot(quantity_sum_by_day.index, quantity_sum_by_day.values, marker='o')\n",
    "plt.title('Quantity Sold by Day')\n",
    "plt.xlabel('Day of the Month')\n",
    "plt.ylabel('Total Quantity Sold')\n",
    "plt.grid(True)\n",
    "plt.show()\n",
    "\n",
    "# Identifying the day with the most quantity sold\n",
    "most_quantity_sold_day = quantity_sum_by_day.idxmax()\n",
    "most_quantity_sold_day, quantity_sum_by_day[most_quantity_sold_day]\n"
   ]
  },
  {
   "cell_type": "markdown",
   "id": "9d3763ce",
   "metadata": {},
   "source": [
    "26. Repeat Q25 for variable 'order_hour' we created in Q14. When is the peak time for orders during a day? Can you describe the customer order trend over a day's time?"
   ]
  },
  {
   "cell_type": "code",
   "execution_count": 30,
   "id": "bef7e971",
   "metadata": {},
   "outputs": [
    {
     "data": {
      "image/png": "[encoded data removed]",
      "text/plain": [
       "<Figure size 1200x600 with 1 Axes>"
      ]
     },
     "metadata": {},
     "output_type": "display_data"
    }
   ],
   "source": [
    "import matplotlib.pyplot as plt\n",
    "# Load the datasets\n",
    "order_data_path = r\"C:\\Users\\kalee\\Documents\\assgnmnt8\\JD Data\\JD_order_data.csv\"\n",
    "delivery_data_path = r\"C:\\Users\\kalee\\Documents\\assgnmnt8\\JD Data\\JD_delivery_data.csv\"\n",
    "\n",
    "order_data = pd.read_csv(order_data_path)\n",
    "delivery_data = pd.read_csv(delivery_data_path)\n",
    "\n",
    "# Performing an inner merge\n",
    "merged_data = pd.merge(order_data, delivery_data, on='order_ID', how='inner')\n",
    "\n",
    "merged_data['order_time'] = pd.to_datetime(merged_data['order_time'])\n",
    "merged_data['order_hour'] = merged_data['order_time'].dt.hour\n",
    "\n",
    "\n",
    "# Sum the quantity by hour\n",
    "quantity_sum_by_hour = merged_data.groupby('order_hour')['quantity'].sum()\n",
    "\n",
    "# Creating a line graph\n",
    "plt.figure(figsize=(12, 6))\n",
    "plt.plot(quantity_sum_by_hour.index, quantity_sum_by_hour.values, marker='o', linestyle='-', color='b')\n",
    "plt.title('Quantity Sold by Hour of the Day')\n",
    "plt.xlabel('Hour of the Day (24-hour format)')\n",
    "plt.ylabel('Total Quantity Sold')\n",
    "plt.xticks(range(0, 24))  # Setting x-ticks for every hour of the day\n",
    "plt.grid(True)\n",
    "plt.show()\n",
    "\n",
    "# Identifying the peak time for orders during a day\n",
    "peak_order_time = quantity_sum_by_hour.idxmax()\n"
   ]
  },
  {
   "cell_type": "markdown",
   "id": "4a661088",
   "metadata": {},
   "source": [
    "27. Examine variable original_unit_price .<br>"
   ]
  },
  {
   "cell_type": "markdown",
   "id": "3e503d07",
   "metadata": {},
   "source": [
    "1) Using describe() to check the stastitics. What is min, max and median?"
   ]
  },
  {
   "cell_type": "code",
   "execution_count": 31,
   "id": "c19e4bb1",
   "metadata": {},
   "outputs": [
    {
     "name": "stdout",
     "output_type": "stream",
     "text": [
      "Minimum Price: 0.0\n",
      "Maximum Price: 7130.0\n",
      "Median Price: 80.0\n"
     ]
    }
   ],
   "source": [
    "# Assuming merged_data is your DataFrame\n",
    "# Examining the 'original_unit_price' variable\n",
    "original_unit_price_stats = merged_data['original_unit_price'].describe()\n",
    "\n",
    "# Extracting min, max, and median values\n",
    "min_price = original_unit_price_stats['min']\n",
    "max_price = original_unit_price_stats['max']\n",
    "median_price = original_unit_price_stats['50%']  # 50% percentile is the median\n",
    "\n",
    "# Display the results\n",
    "print(\"Minimum Price:\", min_price)\n",
    "print(\"Maximum Price:\", max_price)\n",
    "print(\"Median Price:\", median_price)\n"
   ]
  },
  {
   "cell_type": "markdown",
   "id": "ce6b4b9c",
   "metadata": {},
   "source": [
    "2) Find out the percentage of observations whose original_unit_price is greater than 350. Delete those observations using filtering. We will use the filtered dataset from now on."
   ]
  },
  {
   "cell_type": "code",
   "execution_count": 32,
   "id": "aacc2f83",
   "metadata": {},
   "outputs": [
    {
     "name": "stdout",
     "output_type": "stream",
     "text": [
      "Percentage of observations with original_unit_price > 350: 0.6290116318201565%\n"
     ]
    }
   ],
   "source": [
    "# Calculate the percentage of observations with original_unit_price greater than 350\n",
    "percentage_above_350 = (merged_data['original_unit_price'] > 350).mean() * 100\n",
    "\n",
    "# Filtering out observations with original_unit_price greater than 350\n",
    "filtered_data = merged_data[merged_data['original_unit_price'] <= 350]\n",
    "\n",
    "# Print the percentage\n",
    "print(f\"Percentage of observations with original_unit_price > 350: {percentage_above_350}%\")\n",
    "\n"
   ]
  },
  {
   "cell_type": "markdown",
   "id": "0632e2a3",
   "metadata": {},
   "source": [
    "3) Examine the distribution of original_unit_price, using bins range from 0 to 350, width 10. Which price range has the most orders?"
   ]
  },
  {
   "cell_type": "code",
   "execution_count": 33,
   "id": "8121b9c5",
   "metadata": {},
   "outputs": [
    {
     "data": {
      "image/png": "[encoded data removed]",
      "text/plain": [
       "<Figure size 640x480 with 1 Axes>"
      ]
     },
     "metadata": {},
     "output_type": "display_data"
    },
    {
     "name": "stdout",
     "output_type": "stream",
     "text": [
      "Price Range with Most Orders: (70, 80]\n",
      "Number of Orders in this Range: 57997\n"
     ]
    }
   ],
   "source": [
    "import matplotlib.pyplot as plt\n",
    "import pandas as pd\n",
    "\n",
    "# Assuming merged_data is your DataFrame\n",
    "# Define the bins range\n",
    "bins_range = range(0, 350, 10)  # Bins from 0 to 350 with width 10\n",
    "\n",
    "# Plotting the histogram\n",
    "plt.hist(merged_data['original_unit_price'], bins=bins_range, edgecolor='black')\n",
    "plt.title('Distribution of Original Unit Price')\n",
    "plt.xlabel('Original Unit Price')\n",
    "plt.ylabel('Number of Orders')\n",
    "plt.show()\n",
    "\n",
    "# Finding the price range with the most orders\n",
    "price_counts = pd.cut(merged_data['original_unit_price'], bins=bins_range).value_counts()\n",
    "most_frequent_price_range = price_counts.idxmax()\n",
    "\n",
    "# Print the most frequent price range\n",
    "print(\"Price Range with Most Orders:\", most_frequent_price_range)\n",
    "print(\"Number of Orders in this Range:\", price_counts[most_frequent_price_range])\n"
   ]
  },
  {
   "cell_type": "markdown",
   "id": "41361250",
   "metadata": {},
   "source": [
    "28. Examine the distribution of final_unit_price, using bins range from -20 to 350, width 10. Comparing to original unit prices, how are the final prices different?"
   ]
  },
  {
   "cell_type": "code",
   "execution_count": 34,
   "id": "cbc89158",
   "metadata": {},
   "outputs": [
    {
     "data": {
      "image/png": "[encoded data removed]",
      "text/plain": [
       "<Figure size 640x480 with 1 Axes>"
      ]
     },
     "metadata": {},
     "output_type": "display_data"
    },
    {
     "data": {
      "image/png": "[encoded data removed]",
      "text/plain": [
       "<Figure size 640x480 with 1 Axes>"
      ]
     },
     "metadata": {},
     "output_type": "display_data"
    }
   ],
   "source": [
    "import matplotlib.pyplot as plt\n",
    "\n",
    "# Assuming merged_data is your DataFrame\n",
    "# Define the bins range for final unit price\n",
    "bins_range_final_price = range(-20, 360, 10)\n",
    "\n",
    "# Plotting the histogram for final unit price\n",
    "plt.hist(merged_data['final_unit_price'], bins=bins_range_final_price, edgecolor='black', color='green')\n",
    "plt.title('Distribution of Final Unit Price')\n",
    "plt.xlabel('Final Unit Price')\n",
    "plt.ylabel('Number of Orders')\n",
    "plt.show()\n",
    "\n",
    "# Re-plotting the histogram for original unit price for comparison\n",
    "plt.hist(merged_data['original_unit_price'], bins=range(0, 360, 10), edgecolor='black', color='blue')\n",
    "plt.title('Distribution of Original Unit Price')\n",
    "plt.xlabel('Original Unit Price')\n",
    "plt.ylabel('Number of Orders')\n",
    "plt.show()\n"
   ]
  },
  {
   "cell_type": "markdown",
   "id": "3146104a",
   "metadata": {},
   "source": [
    "29. Create a new variable 'sales', which is equal to the multiplication of quantity and final unit price. Make a graph for sales by day as in Q25."
   ]
  },
  {
   "cell_type": "code",
   "execution_count": 35,
   "id": "78d29d15",
   "metadata": {},
   "outputs": [
    {
     "data": {
      "image/png": "[encoded data removed]",
      "text/plain": [
       "<Figure size 1200x600 with 1 Axes>"
      ]
     },
     "metadata": {},
     "output_type": "display_data"
    }
   ],
   "source": [
    "import matplotlib.pyplot as plt\n",
    "\n",
    "# Assuming merged_data is your DataFrame\n",
    "# Create the 'sales' variable\n",
    "merged_data['sales'] = merged_data['quantity'] * merged_data['final_unit_price']\n",
    "\n",
    "# Sum sales by day\n",
    "sales_sum_by_day = merged_data.groupby('order_date')['sales'].sum()\n",
    "\n",
    "# Creating a line graph for sales by day\n",
    "plt.figure(figsize=(12, 6))\n",
    "plt.plot(sales_sum_by_day.index, sales_sum_by_day.values, marker='o', linestyle='-', color='b')\n",
    "plt.title('Sales by Day of the Month')\n",
    "plt.xlabel('Day of the Month')\n",
    "plt.ylabel('Total Sales')\n",
    "plt.grid(True)\n",
    "plt.show()\n"
   ]
  },
  {
   "cell_type": "markdown",
   "id": "f8b594ac",
   "metadata": {},
   "source": [
    "30. Try to answer one descriptive question you asked in your project initial report.\n",
    "Try to answer one descriptive question you asked in your project initial report. One of the question asked in our project is:How can you find out whether an order can be fulfilled by a specific distribution center?\n",
    "Here is an explaination To determine if an order can be fulfilled by a specific distribution center, you would simply check two main things:\n",
    "\n",
    "Inventory Availability: Verify if the distribution center has enough of the ordered item (SKU) in stock. This means checking the inventory level for that specific item at the distribution center against the quantity requested in the order.\n",
    "\n",
    "Order and Inventory Dates Alignment: Ensure that the item was in stock at the distribution center on the date the order was placed.\n",
    "\n",
    "In practical terms, this would involve looking at the inventory data for the distribution center and comparing it with the order details. If the inventory data shows sufficient quantity of the item available on or before the order date, the order can likely be fulfilled by that distribution center"
   ]
  },
  {
   "cell_type": "code",
   "execution_count": null,
   "id": "b6d837ae",
   "metadata": {},
   "outputs": [],
   "source": []
  },
  {
   "cell_type": "markdown",
   "id": "f0c24792",
   "metadata": {},
   "source": [
    "### Assignment 11 starts from here: Q31-Q40.\n",
    "We only covered a small part of data exploration in Assignment 10. If you are interested, you can make many more graphs to understand the data. <br>\n",
    "Next we intend to build models to predict delivery times."
   ]
  },
  {
   "cell_type": "markdown",
   "id": "aae847a1",
   "metadata": {},
   "source": [
    "We want to use two sets of features to make predictions.<br>\n",
    "1. order effect: This class of predictors captures thevcharacteristics of an order that may impact deliveryvtime, such as the number of items (SKUs), order size (quantity), order type (1P or 3P), discount rate and the number of gift items.<br>\n",
    "2. User effect: The process may prioritize certain customers over others, for example, customers with a PLUSmembership or higher past purchase values.<br>\n",
    "Note: Actually, it will be better if we can include real-time workloads of distribution centers. It can be done with this dataset, but might be a little too much for us. So, we will leave that part out."
   ]
  },
  {
   "cell_type": "markdown",
   "id": "4d6d4f39",
   "metadata": {},
   "source": [
    "We need to further process the data to prepare the features.<br>\n",
    "<b>Note: Here I have done this part. You need to change the name of DataFrame \"order_delivery_inner' to your dataframe name that results from all the previous steps. Make sure you run the cells before you proceed.</b>"
   ]
  },
  {
   "cell_type": "markdown",
   "id": "5172354f",
   "metadata": {},
   "source": [
    "31. The dataset we have so far is based on order-items. Each row is an item in an order. Now we need to aggregate by order to match order information with delivery information. Afterwards, each row is about one delivery / one order because we have already removed orders that have multiple deliveries."
   ]
  },
  {
   "cell_type": "markdown",
   "id": "59606105",
   "metadata": {},
   "source": [
    "First, let's calculate order values by multiply price and quantity."
   ]
  },
  {
   "cell_type": "code",
   "execution_count": 43,
   "id": "1319d2d9",
   "metadata": {},
   "outputs": [],
   "source": [
    "# Original value of items\n",
    "merged_data['originValue'] = merged_data['original_unit_price'] \\\n",
    "                                        * merged_data['quantity']\n",
    "\n",
    "# Final value of items                                    \n",
    "merged_data['finalValue'] = merged_data['final_unit_price'] \\\n",
    "                                    * merged_data['quantity']                                   "
   ]
  },
  {
   "cell_type": "markdown",
   "id": "f31f2672",
   "metadata": {},
   "source": [
    "Next we aggregate by each order. <br>\n",
    "Please pay attention to the variable names. They should be consistent with yours. Make changes when necessary. <br>\n",
    "\n",
    "Variables that are the same across one order:<br>\n",
    "user_ID<br>\n",
    "order type - type_x<br>\n",
    "delivery time - delivery_time<br>\n",
    "order day - order_day<br>\n",
    "order hour - order_hour<br>\n",
    "<br>\n",
    "<br>\n",
    "Variables to be aggregated across one order:<br>\n",
    "sku_ID - to count to calculate the number of different products<br>\n",
    "quantity - to sum to calculate the order size<br>\n",
    "originValue - to sum to calculate sales value with the original price<br>\n",
    "finalValue - to sum to calculate final sales value<br>\n",
    "discount rate<br>\n",
    "gift_item - to sum to calculate the number of gift items<br>\n",
    "\n",
    "Therefore, we need to do the following:<br>\n",
    "\n",
    "1. For variables that are the same across one order, we can use the 'first' method to keep the value in the groupby result.<br>\n",
    "2. For variables to be aggregated, we specify aggregation for each of them.<br>\n",
    "3. We can use a dictionary to put all actions together."
   ]
  },
  {
   "cell_type": "code",
   "execution_count": 46,
   "id": "c8a0f382",
   "metadata": {},
   "outputs": [
    {
     "data": {
      "text/html": [
       "<div>\n",
       "<style scoped>\n",
       "    .dataframe tbody tr th:only-of-type {\n",
       "        vertical-align: middle;\n",
       "    }\n",
       "\n",
       "    .dataframe tbody tr th {\n",
       "        vertical-align: top;\n",
       "    }\n",
       "\n",
       "    .dataframe thead th {\n",
       "        text-align: right;\n",
       "    }\n",
       "</style>\n",
       "<table border=\"1\" class=\"dataframe\">\n",
       "  <thead>\n",
       "    <tr style=\"text-align: right;\">\n",
       "      <th></th>\n",
       "      <th>order_ID</th>\n",
       "      <th>user_ID</th>\n",
       "      <th>type_x</th>\n",
       "      <th>order_time</th>\n",
       "      <th>order_date</th>\n",
       "      <th>order_hour</th>\n",
       "      <th>sku_ID</th>\n",
       "      <th>quantity</th>\n",
       "      <th>originValue</th>\n",
       "      <th>finalValue</th>\n",
       "      <th>gift_item</th>\n",
       "    </tr>\n",
       "  </thead>\n",
       "  <tbody>\n",
       "    <tr>\n",
       "      <th>0</th>\n",
       "      <td>0000095025</td>\n",
       "      <td>57648ed1fc</td>\n",
       "      <td>1</td>\n",
       "      <td>2018-03-19 11:11:34</td>\n",
       "      <td>2018-03-19</td>\n",
       "      <td>11</td>\n",
       "      <td>1</td>\n",
       "      <td>1</td>\n",
       "      <td>230.0</td>\n",
       "      <td>176.2</td>\n",
       "      <td>0</td>\n",
       "    </tr>\n",
       "    <tr>\n",
       "      <th>1</th>\n",
       "      <td>00000e13eb</td>\n",
       "      <td>c113527e40</td>\n",
       "      <td>2</td>\n",
       "      <td>2018-03-09 12:40:42</td>\n",
       "      <td>2018-03-09</td>\n",
       "      <td>12</td>\n",
       "      <td>1</td>\n",
       "      <td>1</td>\n",
       "      <td>56.0</td>\n",
       "      <td>56.0</td>\n",
       "      <td>0</td>\n",
       "    </tr>\n",
       "    <tr>\n",
       "      <th>2</th>\n",
       "      <td>0000132b39</td>\n",
       "      <td>c4f5626c0d</td>\n",
       "      <td>1</td>\n",
       "      <td>2018-03-13 16:30:35</td>\n",
       "      <td>2018-03-13</td>\n",
       "      <td>16</td>\n",
       "      <td>1</td>\n",
       "      <td>1</td>\n",
       "      <td>89.0</td>\n",
       "      <td>85.0</td>\n",
       "      <td>0</td>\n",
       "    </tr>\n",
       "    <tr>\n",
       "      <th>3</th>\n",
       "      <td>000064fa67</td>\n",
       "      <td>99439045cb</td>\n",
       "      <td>1</td>\n",
       "      <td>2018-03-02 10:56:17</td>\n",
       "      <td>2018-03-02</td>\n",
       "      <td>10</td>\n",
       "      <td>2</td>\n",
       "      <td>2</td>\n",
       "      <td>298.0</td>\n",
       "      <td>208.0</td>\n",
       "      <td>1</td>\n",
       "    </tr>\n",
       "    <tr>\n",
       "      <th>4</th>\n",
       "      <td>0000bde331</td>\n",
       "      <td>20d84fc11a</td>\n",
       "      <td>1</td>\n",
       "      <td>2018-03-17 14:22:54</td>\n",
       "      <td>2018-03-17</td>\n",
       "      <td>14</td>\n",
       "      <td>1</td>\n",
       "      <td>1</td>\n",
       "      <td>59.9</td>\n",
       "      <td>39.9</td>\n",
       "      <td>0</td>\n",
       "    </tr>\n",
       "  </tbody>\n",
       "</table>\n",
       "</div>"
      ],
      "text/plain": [
       "     order_ID     user_ID  type_x          order_time  order_date  order_hour  \\\n",
       "0  0000095025  57648ed1fc       1 2018-03-19 11:11:34  2018-03-19          11   \n",
       "1  00000e13eb  c113527e40       2 2018-03-09 12:40:42  2018-03-09          12   \n",
       "2  0000132b39  c4f5626c0d       1 2018-03-13 16:30:35  2018-03-13          16   \n",
       "3  000064fa67  99439045cb       1 2018-03-02 10:56:17  2018-03-02          10   \n",
       "4  0000bde331  20d84fc11a       1 2018-03-17 14:22:54  2018-03-17          14   \n",
       "\n",
       "   sku_ID  quantity  originValue  finalValue  gift_item  \n",
       "0       1         1        230.0       176.2          0  \n",
       "1       1         1         56.0        56.0          0  \n",
       "2       1         1         89.0        85.0          0  \n",
       "3       2         2        298.0       208.0          1  \n",
       "4       1         1         59.9        39.9          0  "
      ]
     },
     "execution_count": 46,
     "metadata": {},
     "output_type": "execute_result"
    }
   ],
   "source": [
    "\n",
    "merged_data['order_time'] = pd.to_datetime(merged_data['order_time'])\n",
    "merged_data['order_hour'] = merged_data['order_time'].dt.hour\n",
    "\n",
    "agg_dict = {\n",
    "    'user_ID': 'first',\n",
    "    'type_x': 'first',\n",
    "    'order_time': 'first',\n",
    "    'order_date': 'first',\n",
    "    'order_hour':'first',\n",
    "    'sku_ID': 'count',\n",
    "    'quantity': 'sum',\n",
    "    'originValue': 'sum',\n",
    "    'finalValue': 'sum',\n",
    "    'gift_item': 'sum'\n",
    "}\n",
    "\n",
    "order_agg = merged_data.groupby('order_ID').agg(agg_dict).reset_index()\n",
    "order_agg.head()"
   ]
  },
  {
   "cell_type": "markdown",
   "id": "fdc3e486",
   "metadata": {},
   "source": [
    "32. Merge user table with this aggregated order table."
   ]
  },
  {
   "cell_type": "code",
   "execution_count": 60,
   "id": "9b6c49fb",
   "metadata": {},
   "outputs": [],
   "source": [
    "user_df = pd.read_csv(r\"C:\\Users\\kalee\\Documents\\assgnmnt8\\JD Data\\JD_user_data.csv\")\n",
    "order_user = pd.merge(order_agg, user_df, on = 'user_ID', how = 'inner')\n"
   ]
  },
  {
   "cell_type": "markdown",
   "id": "dc1d24b9",
   "metadata": {},
   "source": [
    "33. We need to code a few more variables."
   ]
  },
  {
   "cell_type": "code",
   "execution_count": 61,
   "id": "84ea5602",
   "metadata": {},
   "outputs": [],
   "source": [
    "# First we remove the orders with originValue is 0\n",
    "order_user = order_user[order_user['originValue'] != 0]"
   ]
  },
  {
   "cell_type": "code",
   "execution_count": 62,
   "id": "8887322d",
   "metadata": {},
   "outputs": [],
   "source": [
    "# Discount rate\n",
    "order_user['dis_rate'] = (order_user['originValue'] - order_user['finalValue'])/order_user['originValue']\n",
    "# order_hour coded to be busy vs. not busy\n",
    "order_user['busy_hour'] = order_user['order_hour'].apply(lambda h: 1 if 8<=h<=22 else 0)"
   ]
  },
  {
   "cell_type": "markdown",
   "id": "fd453eb5",
   "metadata": {},
   "source": [
    "34. Prepare data for analysis. The target variable is 'delivery_time'.<br>\n",
    "Features: 'type_x', 'sku_ID', 'quantity', 'finalValue', 'gift_item', 'plus', 'dis_rate', 'busy_hour'"
   ]
  },
  {
   "cell_type": "code",
   "execution_count": 63,
   "id": "6bdb97fd",
   "metadata": {},
   "outputs": [
    {
     "name": "stdout",
     "output_type": "stream",
     "text": [
      "           order_time  type_x  sku_ID  quantity  finalValue  gift_item  \\\n",
      "0 2018-03-19 11:11:34       1       1         1       176.2          0   \n",
      "1 2018-03-09 12:40:42       2       1         1        56.0          0   \n",
      "2 2018-03-13 16:30:35       1       1         1        85.0          0   \n",
      "3 2018-03-02 10:56:17       1       2         2       208.0          1   \n",
      "4 2018-03-17 14:22:54       1       1         1        39.9          0   \n",
      "\n",
      "   dis_rate  busy_hour  \n",
      "0  0.233913          1  \n",
      "1  0.000000          1  \n",
      "2  0.044944          1  \n",
      "3  0.302013          1  \n",
      "4  0.333890          1  \n"
     ]
    }
   ],
   "source": [
    "# Assuming you have a dataset named 'order_user' after the previous steps\n",
    "# Adjust the target variable and features based on your specific dataset\n",
    "# Discount rate\n",
    "order_user['dis_rate'] = (order_user['originValue'] - order_user['finalValue'])/order_user['originValue']\n",
    "# order_hour coded to be busy vs. not busy\n",
    "order_user['busy_hour'] = order_user['order_hour'].apply(lambda h: 1 if 8<=h<=22 else 0)\n",
    "# Step 1: Select the target variable and features\n",
    "target_variable = 'order_time'\n",
    "features = ['type_x', 'sku_ID', 'quantity', 'finalValue', 'gift_item', 'dis_rate', 'busy_hour']\n",
    "\n",
    "# Step 2: Filter the DataFrame to include only the selected columns\n",
    "selected_data = order_user[[target_variable] + features]\n",
    "\n",
    "# Step 3: Remove any rows with missing values (if applicable)\n",
    "selected_data = selected_data.dropna()\n",
    "\n",
    "# Step 4: Display the first few rows of the selected data\n",
    "print(selected_data.head())\n"
   ]
  },
  {
   "cell_type": "markdown",
   "id": "847ade50",
   "metadata": {},
   "source": [
    "35. Prepare the training and test datasets"
   ]
  },
  {
   "cell_type": "code",
   "execution_count": 65,
   "id": "9d79d189",
   "metadata": {},
   "outputs": [
    {
     "name": "stdout",
     "output_type": "stream",
     "text": [
      "Training set shape - Features: (224124, 7) Target: (224124,)\n",
      "Test set shape - Features: (56031, 7) Target: (56031,)\n"
     ]
    }
   ],
   "source": [
    "from sklearn.model_selection import train_test_split\n",
    "\n",
    "# Assuming 'delivery_time' is the target variable\n",
    "target_variable = 'order_time'\n",
    "\n",
    "# Features\n",
    "features = ['type_x', 'sku_ID', 'quantity', 'finalValue', 'gift_item', 'dis_rate', 'busy_hour']\n",
    "\n",
    "# Select relevant columns\n",
    "data_for_analysis = order_user[[target_variable] + features]\n",
    "\n",
    "# Remove any rows with missing values\n",
    "data_for_analysis = data_for_analysis.dropna()\n",
    "\n",
    "# Separate features and target variable\n",
    "X = data_for_analysis[features]\n",
    "y = data_for_analysis[target_variable]\n",
    "\n",
    "# Split the data into training and test sets\n",
    "X_train, X_test, y_train, y_test = train_test_split(X, y, test_size=0.2, random_state=42)\n",
    "\n",
    "# Display the shapes of the training and test sets\n",
    "print(\"Training set shape - Features:\", X_train.shape, \"Target:\", y_train.shape)\n",
    "print(\"Test set shape - Features:\", X_test.shape, \"Target:\", y_test.shape)\n"
   ]
  },
  {
   "cell_type": "markdown",
   "id": "710e9e72",
   "metadata": {},
   "source": [
    "36. Train a Decision Tree regression model."
   ]
  },
  {
   "cell_type": "code",
   "execution_count": 67,
   "id": "06d31756",
   "metadata": {},
   "outputs": [
    {
     "name": "stdout",
     "output_type": "stream",
     "text": [
      "Mean Squared Error (MSE): 2.313852773171591e+36\n",
      "Root Mean Squared Error (RMSE): 1.5211353566239892e+18\n"
     ]
    }
   ],
   "source": [
    "from sklearn.tree import DecisionTreeRegressor\n",
    "from sklearn.metrics import mean_squared_error\n",
    "import numpy as np\n",
    "\n",
    "# Create a Decision Tree regression model\n",
    "decision_tree_model = DecisionTreeRegressor(random_state=42)\n",
    "\n",
    "# Train the model on the training set\n",
    "decision_tree_model.fit(X_train, y_train)\n",
    "\n",
    "# Make predictions on the test set\n",
    "y_pred = decision_tree_model.predict(X_test)\n",
    "# Convert datetime to numerical value (e.g., seconds or minutes)\n",
    "y_test_numerical = (y_test - y_test.min()).dt.total_seconds()\n",
    "\n",
    "# Make predictions on the test set\n",
    "y_pred_numerical = decision_tree_model.predict(X_test)\n",
    "\n",
    "# Evaluate the model performance\n",
    "mse = mean_squared_error(y_test_numerical, y_pred_numerical)\n",
    "rmse = np.sqrt(mse)\n",
    "\n",
    "print(\"Mean Squared Error (MSE):\", mse)\n",
    "print(\"Root Mean Squared Error (RMSE):\", rmse)\n",
    "\n"
   ]
  },
  {
   "cell_type": "markdown",
   "id": "16d7e840",
   "metadata": {},
   "source": [
    "37. Make predictions on the testing data."
   ]
  },
  {
   "cell_type": "code",
   "execution_count": 68,
   "id": "63bfb5dc",
   "metadata": {},
   "outputs": [
    {
     "name": "stdout",
     "output_type": "stream",
     "text": [
      "         Actual_order_Time  Predicted_order_Time\n",
      "64863  2018-03-26 18:27:12          1.520435e+18\n",
      "172950 2018-03-28 20:43:33          1.520281e+18\n",
      "141350 2018-03-28 18:06:39          1.522290e+18\n",
      "61413  2018-03-07 22:27:12          1.520282e+18\n",
      "74649  2018-03-09 09:36:40          1.520297e+18\n"
     ]
    }
   ],
   "source": [
    "# Make predictions on the testing set\n",
    "y_pred = decision_tree_model.predict(X_test)\n",
    "\n",
    "# Display the actual delivery times and predicted order times\n",
    "predictions_df = pd.DataFrame({'Actual_order_Time': y_test, 'Predicted_order_Time': y_pred})\n",
    "print(predictions_df.head())\n"
   ]
  },
  {
   "cell_type": "markdown",
   "id": "d5e881fa",
   "metadata": {},
   "source": [
    "38. Evaluate the model using RMSE"
   ]
  },
  {
   "cell_type": "code",
   "execution_count": 70,
   "id": "6c14af6e",
   "metadata": {},
   "outputs": [
    {
     "name": "stdout",
     "output_type": "stream",
     "text": [
      "Root Mean Squared Error (RMSE): 1.5211353566239892e+18\n"
     ]
    }
   ],
   "source": [
    "from sklearn.metrics import mean_squared_error\n",
    "import numpy as np\n",
    "# Convert datetime to numerical value (e.g., seconds or minutes)\n",
    "y_test_numerical = (y_test - y_test.min()).dt.total_seconds()\n",
    "\n",
    "# Make predictions on the test set\n",
    "y_pred_numerical = decision_tree_model.predict(X_test)\n",
    "\n",
    "# Evaluate the model performance\n",
    "mse = mean_squared_error(y_test_numerical, y_pred_numerical)\n",
    "rmse = np.sqrt(mse)\n",
    "\n",
    "\n",
    "# Print the RMSE\n",
    "print(\"Root Mean Squared Error (RMSE):\", rmse)\n"
   ]
  },
  {
   "cell_type": "code",
   "execution_count": 72,
   "id": "818290ae",
   "metadata": {},
   "outputs": [
    {
     "name": "stderr",
     "output_type": "stream",
     "text": [
      "C:\\Users\\kalee\\AppData\\Local\\Temp\\ipykernel_15184\\3790813961.py:2: FutureWarning: Treating datetime data as categorical rather than numeric in `.describe` is deprecated and will be removed in a future version of pandas. Specify `datetime_is_numeric=True` to silence this warning and adopt the future behavior now.\n",
      "  order_user['order_time'].describe()\n"
     ]
    },
    {
     "data": {
      "text/plain": [
       "count                  280155\n",
       "unique                 256429\n",
       "top       2018-03-03 00:00:00\n",
       "freq                       13\n",
       "first     2018-03-01 00:00:00\n",
       "last      2018-03-31 23:59:59\n",
       "Name: order_time, dtype: object"
      ]
     },
     "execution_count": 72,
     "metadata": {},
     "output_type": "execute_result"
    }
   ],
   "source": [
    "# To understand the RMSE, We check the statistics of the target variable.\n",
    "order_user['order_time'].describe()\n",
    "# It seems the mean is about 34 hours. With RMSE being about 27, \n",
    "# the prediction seems not very good.\n",
    "# If you are interested to explore more, you may try some other prediction methods to see \n",
    "# whether you can get better results."
   ]
  }
 ],
 "metadata": {
  "kernelspec": {
   "display_name": "Python 3 (ipykernel)",
   "language": "python",
   "name": "python3"
  },
  "language_info": {
   "codemirror_mode": {
    "name": "ipython",
    "version": 3
   },
   "file_extension": ".py",
   "mimetype": "text/x-python",
   "name": "python",
   "nbconvert_exporter": "python",
   "pygments_lexer": "ipython3",
   "version": "3.11.4"
  }
 },
 "nbformat": 4,
 "nbformat_minor": 5
}
